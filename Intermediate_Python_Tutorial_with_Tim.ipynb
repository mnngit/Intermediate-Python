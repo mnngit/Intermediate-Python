{
  "nbformat": 4,
  "nbformat_minor": 0,
  "metadata": {
    "colab": {
      "provenance": [],
      "collapsed_sections": [],
      "authorship_tag": "ABX9TyNWkv72lbzQDwdo5gZYYfZN",
      "include_colab_link": true
    },
    "kernelspec": {
      "name": "python3",
      "display_name": "Python 3"
    },
    "language_info": {
      "name": "python"
    }
  },
  "cells": [
    {
      "cell_type": "markdown",
      "metadata": {
        "id": "view-in-github",
        "colab_type": "text"
      },
      "source": [
        "<a href=\"https://colab.research.google.com/github/mnngit/Intermediate-Python/blob/main/Intermediate_Python_Tutorial_with_Tim.ipynb\" target=\"_parent\"><img src=\"https://colab.research.google.com/assets/colab-badge.svg\" alt=\"Open In Colab\"/></a>"
      ]
    },
    {
      "cell_type": "markdown",
      "source": [
        "# ***optional parameters***"
      ],
      "metadata": {
        "id": "2xJJYjn5-pQZ"
      }
    },
    {
      "cell_type": "code",
      "source": [
        "def func(x=1):# default parameter\n",
        "  return x**2\n",
        "\n",
        "call = func()\n",
        "call"
      ],
      "metadata": {
        "colab": {
          "base_uri": "https://localhost:8080/"
        },
        "id": "TLtRdYRM_ZVF",
        "outputId": "ccfa184c-6b06-47ba-df52-693a7d6b8af4"
      },
      "execution_count": 57,
      "outputs": [
        {
          "output_type": "execute_result",
          "data": {
            "text/plain": [
              "1"
            ]
          },
          "metadata": {},
          "execution_count": 57
        }
      ]
    },
    {
      "cell_type": "code",
      "source": [
        "def func(word, freq=1):# default parameter\n",
        "  print(word*freq)\n",
        "\n",
        "call = func('Tim', 10)\n",
        "call"
      ],
      "metadata": {
        "colab": {
          "base_uri": "https://localhost:8080/"
        },
        "id": "NKh8rbDa_xeL",
        "outputId": "bc3a19a0-6127-455f-e3f9-231a4027c7fa"
      },
      "execution_count": 58,
      "outputs": [
        {
          "output_type": "stream",
          "name": "stdout",
          "text": [
            "TimTimTimTimTimTimTimTimTimTim\n"
          ]
        }
      ]
    },
    {
      "cell_type": "code",
      "source": [
        "def func(word, add=5, freq=1):# default parameter\n",
        "  print(word*(freq + add))\n",
        "\n",
        "call = func(10)\n",
        "call"
      ],
      "metadata": {
        "colab": {
          "base_uri": "https://localhost:8080/"
        },
        "id": "NviP7GkOSjOY",
        "outputId": "52eddad7-760a-4302-e386-53566d9804c8"
      },
      "execution_count": 59,
      "outputs": [
        {
          "output_type": "stream",
          "name": "stdout",
          "text": [
            "60\n"
          ]
        }
      ]
    },
    {
      "cell_type": "code",
      "source": [
        "def func(word, freq=1):# default parameter\n",
        "  print(word*freq)\n",
        "\n",
        "call = func(10)\n",
        "call"
      ],
      "metadata": {
        "colab": {
          "base_uri": "https://localhost:8080/"
        },
        "id": "ysMBMPyqTOTP",
        "outputId": "e328cb92-a056-4f48-f916-61efd2cda042"
      },
      "execution_count": 60,
      "outputs": [
        {
          "output_type": "stream",
          "name": "stdout",
          "text": [
            "10\n"
          ]
        }
      ]
    },
    {
      "cell_type": "code",
      "source": [
        "class car(object):\n",
        "  def __init__(self, make, model, year, condition='New', kms=0):\n",
        "    self.make = make\n",
        "    self.model = model\n",
        "    self.year = year\n",
        "    self.condition = condition\n",
        "    self.kms = kms\n",
        "\n",
        "  def display(self, showAll=True):\n",
        "    if showAll:\n",
        "      print('This car is a %s %s from %s. it is %s and has %s kms.' %(self.make, self.model, self.year, self.condition, self.kms))\n",
        "    else:\n",
        "      print('This car is %s %s from %s' %(self.make, self.model, self.year))\n",
        "\n",
        "whip = car('Ford', 'Fusion', 2012)\n",
        "whip.display(False)\n",
        "\n"
      ],
      "metadata": {
        "colab": {
          "base_uri": "https://localhost:8080/"
        },
        "id": "bfEKhXVEcjyz",
        "outputId": "185043cc-c4ef-4365-b2fe-21a141e58676"
      },
      "execution_count": 61,
      "outputs": [
        {
          "output_type": "stream",
          "name": "stdout",
          "text": [
            "This car is Ford Fusion from 2012\n"
          ]
        }
      ]
    },
    {
      "cell_type": "markdown",
      "source": [
        "# **Static and Class methods**"
      ],
      "metadata": {
        "id": "nOYec7bpc6Qi"
      }
    },
    {
      "cell_type": "code",
      "source": [
        "class person(object):\n",
        "  population = 50\n",
        "  def __init__(self, name, age):\n",
        "    self.name = name\n",
        "    self.age = age\n",
        "\n",
        "  @classmethod\n",
        "  def getPopulation(cls):\n",
        "    return cls.population\n",
        "\n",
        "  @staticmethod\n",
        "  def isAdult(age):\n",
        "    return age >= 18\n",
        "\n",
        "  def display(self):\n",
        "    print(self.name, 'is', self.age, 'years old.')\n",
        "\n",
        "\n",
        "new_person = person('Nur', 50)\n",
        "person.getPopulation()\n",
        "  "
      ],
      "metadata": {
        "id": "wr1LFT8lkBqY",
        "colab": {
          "base_uri": "https://localhost:8080/"
        },
        "outputId": "30a14b94-f6c2-4258-db8e-935f926257c8"
      },
      "execution_count": 62,
      "outputs": [
        {
          "output_type": "execute_result",
          "data": {
            "text/plain": [
              "50"
            ]
          },
          "metadata": {},
          "execution_count": 62
        }
      ]
    },
    {
      "cell_type": "code",
      "source": [
        "person.isAdult(4)"
      ],
      "metadata": {
        "colab": {
          "base_uri": "https://localhost:8080/"
        },
        "id": "YS_SD5rsshZe",
        "outputId": "bb087f1d-df98-4c07-8fb0-5dd923dcc982"
      },
      "execution_count": 63,
      "outputs": [
        {
          "output_type": "execute_result",
          "data": {
            "text/plain": [
              "False"
            ]
          },
          "metadata": {},
          "execution_count": 63
        }
      ]
    },
    {
      "cell_type": "code",
      "source": [
        "person.isAdult(32)"
      ],
      "metadata": {
        "colab": {
          "base_uri": "https://localhost:8080/"
        },
        "id": "SfpHuqEGuu5d",
        "outputId": "f7e97bc7-0f77-4133-cef8-b939915587f4"
      },
      "execution_count": 64,
      "outputs": [
        {
          "output_type": "execute_result",
          "data": {
            "text/plain": [
              "True"
            ]
          },
          "metadata": {},
          "execution_count": 64
        }
      ]
    },
    {
      "cell_type": "markdown",
      "source": [
        "# ***map function***"
      ],
      "metadata": {
        "id": "uy5ykdw3wK6I"
      }
    },
    {
      "cell_type": "code",
      "source": [
        "li = [1,2,3,4,5,6,7,8,9,10]\n",
        "\n",
        "def func(x):\n",
        "  return x**x\n",
        "\n",
        "newList = []\n",
        "for x in li:\n",
        "  newList.append(func(x))\n",
        "\n",
        "newList"
      ],
      "metadata": {
        "colab": {
          "base_uri": "https://localhost:8080/"
        },
        "id": "LqJbCeXv4PYw",
        "outputId": "b6ce6db0-8b5c-4818-8c0b-374652e0d6e9"
      },
      "execution_count": 65,
      "outputs": [
        {
          "output_type": "execute_result",
          "data": {
            "text/plain": [
              "[1, 4, 27, 256, 3125, 46656, 823543, 16777216, 387420489, 10000000000]"
            ]
          },
          "metadata": {},
          "execution_count": 65
        }
      ]
    },
    {
      "cell_type": "code",
      "source": [
        "list(map(func, li))"
      ],
      "metadata": {
        "colab": {
          "base_uri": "https://localhost:8080/"
        },
        "id": "W1DnUDdfB4KF",
        "outputId": "113a1645-cc71-4215-d2ea-bdccb0ef1a30"
      },
      "execution_count": 66,
      "outputs": [
        {
          "output_type": "execute_result",
          "data": {
            "text/plain": [
              "[1, 4, 27, 256, 3125, 46656, 823543, 16777216, 387420489, 10000000000]"
            ]
          },
          "metadata": {},
          "execution_count": 66
        }
      ]
    },
    {
      "cell_type": "code",
      "source": [
        "# list comprehension\n",
        "newList = (func(x) for x in li)"
      ],
      "metadata": {
        "id": "MLO4gYW5EEBd"
      },
      "execution_count": 67,
      "outputs": []
    },
    {
      "cell_type": "code",
      "source": [
        "list(newList)"
      ],
      "metadata": {
        "colab": {
          "base_uri": "https://localhost:8080/"
        },
        "id": "TkuHZeHXXG6R",
        "outputId": "6a4ca16f-6320-427f-9170-c51b2fd198fd"
      },
      "execution_count": 68,
      "outputs": [
        {
          "output_type": "execute_result",
          "data": {
            "text/plain": [
              "[1, 4, 27, 256, 3125, 46656, 823543, 16777216, 387420489, 10000000000]"
            ]
          },
          "metadata": {},
          "execution_count": 68
        }
      ]
    },
    {
      "cell_type": "code",
      "source": [
        "list(func(x) for x in li)"
      ],
      "metadata": {
        "colab": {
          "base_uri": "https://localhost:8080/"
        },
        "id": "tD8YaIjhXM5t",
        "outputId": "e7446aa8-1b8c-45c0-9d83-9f4216f1e86a"
      },
      "execution_count": 69,
      "outputs": [
        {
          "output_type": "execute_result",
          "data": {
            "text/plain": [
              "[1, 4, 27, 256, 3125, 46656, 823543, 16777216, 387420489, 10000000000]"
            ]
          },
          "metadata": {},
          "execution_count": 69
        }
      ]
    },
    {
      "cell_type": "code",
      "source": [
        "list(func(x) for x in li if x%2==0)\n"
      ],
      "metadata": {
        "colab": {
          "base_uri": "https://localhost:8080/"
        },
        "id": "C7kjaShSXYwq",
        "outputId": "2f3ee1e7-2b18-4581-b704-90a0e6e58cf0"
      },
      "execution_count": 70,
      "outputs": [
        {
          "output_type": "execute_result",
          "data": {
            "text/plain": [
              "[4, 256, 46656, 16777216, 10000000000]"
            ]
          },
          "metadata": {},
          "execution_count": 70
        }
      ]
    },
    {
      "cell_type": "markdown",
      "source": [
        "# **filter function**"
      ],
      "metadata": {
        "id": "5MfrmG1rYsZL"
      }
    },
    {
      "cell_type": "code",
      "source": [
        "def add7(x):\n",
        "  return x + 7\n",
        "\n",
        "def isOdd(x):\n",
        "  return x%2 != 0\n",
        "\n",
        "a = [1,2,3,4,5,6,7,8,9,10]"
      ],
      "metadata": {
        "id": "GL8r1aWSY73h"
      },
      "execution_count": 71,
      "outputs": []
    },
    {
      "cell_type": "code",
      "source": [
        "b = list(filter(isOdd, a))"
      ],
      "metadata": {
        "id": "37CjU4RHic6D"
      },
      "execution_count": 72,
      "outputs": []
    },
    {
      "cell_type": "code",
      "source": [
        "b"
      ],
      "metadata": {
        "colab": {
          "base_uri": "https://localhost:8080/"
        },
        "id": "xYDrF7sKijcr",
        "outputId": "752712d6-a69d-418a-d935-2c121c9ee15d"
      },
      "execution_count": 73,
      "outputs": [
        {
          "output_type": "execute_result",
          "data": {
            "text/plain": [
              "[1, 3, 5, 7, 9]"
            ]
          },
          "metadata": {},
          "execution_count": 73
        }
      ]
    },
    {
      "cell_type": "code",
      "source": [
        "c = list(map(add7, filter(isOdd, a)))"
      ],
      "metadata": {
        "id": "DXEXbZ2hijzs"
      },
      "execution_count": 74,
      "outputs": []
    },
    {
      "cell_type": "code",
      "source": [
        "c"
      ],
      "metadata": {
        "colab": {
          "base_uri": "https://localhost:8080/"
        },
        "id": "jXjrgqzljK-p",
        "outputId": "6975cc42-5f58-4a26-f7ba-b6811807648e"
      },
      "execution_count": 75,
      "outputs": [
        {
          "output_type": "execute_result",
          "data": {
            "text/plain": [
              "[8, 10, 12, 14, 16]"
            ]
          },
          "metadata": {},
          "execution_count": 75
        }
      ]
    },
    {
      "cell_type": "markdown",
      "source": [
        "# ***lambda tutorial***"
      ],
      "metadata": {
        "id": "526JaUxVjLQ5"
      }
    },
    {
      "cell_type": "code",
      "source": [
        "def func(x):\n",
        "  return x + 5\n",
        "\n",
        "func(2)"
      ],
      "metadata": {
        "colab": {
          "base_uri": "https://localhost:8080/"
        },
        "id": "8LrctI_fkCw0",
        "outputId": "de1adc87-26b6-487f-822d-4812e4339d21"
      },
      "execution_count": 76,
      "outputs": [
        {
          "output_type": "execute_result",
          "data": {
            "text/plain": [
              "7"
            ]
          },
          "metadata": {},
          "execution_count": 76
        }
      ]
    },
    {
      "cell_type": "code",
      "source": [
        "func2 = lambda x: x + 5\n",
        "func2(9)"
      ],
      "metadata": {
        "colab": {
          "base_uri": "https://localhost:8080/"
        },
        "id": "baY7NODrl7Gx",
        "outputId": "1f4b20cf-8040-488e-ecd0-bde36f418fcc"
      },
      "execution_count": 77,
      "outputs": [
        {
          "output_type": "execute_result",
          "data": {
            "text/plain": [
              "14"
            ]
          },
          "metadata": {},
          "execution_count": 77
        }
      ]
    },
    {
      "cell_type": "code",
      "source": [
        "def func(x):\n",
        "  func2 = lambda x: x + 5\n",
        "  return func2(x) + 85\n",
        "\n",
        "func(4)"
      ],
      "metadata": {
        "colab": {
          "base_uri": "https://localhost:8080/"
        },
        "id": "p_V0-sLopUeV",
        "outputId": "0e9b3df0-2e62-43c7-9055-1cbe7e9e4ae6"
      },
      "execution_count": 78,
      "outputs": [
        {
          "output_type": "execute_result",
          "data": {
            "text/plain": [
              "94"
            ]
          },
          "metadata": {},
          "execution_count": 78
        }
      ]
    },
    {
      "cell_type": "code",
      "source": [
        "func3 = lambda x,y=4: x+y\n",
        "func3(5)"
      ],
      "metadata": {
        "colab": {
          "base_uri": "https://localhost:8080/"
        },
        "id": "okIgdfGrq2pl",
        "outputId": "3c9443c6-4b01-460e-dfe5-fccac9b2a459"
      },
      "execution_count": 79,
      "outputs": [
        {
          "output_type": "execute_result",
          "data": {
            "text/plain": [
              "9"
            ]
          },
          "metadata": {},
          "execution_count": 79
        }
      ]
    },
    {
      "cell_type": "code",
      "source": [
        "a = [1,2,3,4,5,6,7,8,9]\n",
        "newList = list(map(lambda x: x+5, a))"
      ],
      "metadata": {
        "id": "qszyY0RqrqCc"
      },
      "execution_count": 80,
      "outputs": []
    },
    {
      "cell_type": "code",
      "source": [
        "newList"
      ],
      "metadata": {
        "colab": {
          "base_uri": "https://localhost:8080/"
        },
        "id": "Iv3io5KAzHq4",
        "outputId": "adc8bb29-1711-432c-dd14-c88b5a7931da"
      },
      "execution_count": 81,
      "outputs": [
        {
          "output_type": "execute_result",
          "data": {
            "text/plain": [
              "[6, 7, 8, 9, 10, 11, 12, 13, 14]"
            ]
          },
          "metadata": {},
          "execution_count": 81
        }
      ]
    },
    {
      "cell_type": "code",
      "source": [
        "list2 = list(filter(lambda x: x%2 == 0, a))"
      ],
      "metadata": {
        "id": "QdUPmAnJzJVZ"
      },
      "execution_count": 82,
      "outputs": []
    },
    {
      "cell_type": "code",
      "source": [
        "list2"
      ],
      "metadata": {
        "colab": {
          "base_uri": "https://localhost:8080/"
        },
        "id": "QsnjfCObzjbZ",
        "outputId": "26a4d4dc-9c3e-407d-c4c1-ea947a63cb84"
      },
      "execution_count": 83,
      "outputs": [
        {
          "output_type": "execute_result",
          "data": {
            "text/plain": [
              "[2, 4, 6, 8]"
            ]
          },
          "metadata": {},
          "execution_count": 83
        }
      ]
    },
    {
      "cell_type": "markdown",
      "source": [
        "# **collections**"
      ],
      "metadata": {
        "id": "hvmOEdwPzk1A"
      }
    },
    {
      "cell_type": "code",
      "source": [
        "import collections\n",
        "from collections import Counter"
      ],
      "metadata": {
        "id": "-YuxA8D7z3_B"
      },
      "execution_count": 84,
      "outputs": []
    },
    {
      "cell_type": "code",
      "source": [
        "c = Counter('gallad')\n",
        "c"
      ],
      "metadata": {
        "colab": {
          "base_uri": "https://localhost:8080/"
        },
        "id": "Egh6KdAy5zsv",
        "outputId": "69da321a-ba79-4bd6-f571-7f5761f14624"
      },
      "execution_count": 85,
      "outputs": [
        {
          "output_type": "execute_result",
          "data": {
            "text/plain": [
              "Counter({'g': 1, 'a': 2, 'l': 2, 'd': 1})"
            ]
          },
          "metadata": {},
          "execution_count": 85
        }
      ]
    },
    {
      "cell_type": "code",
      "source": [
        "c = Counter(['a', 'a', 'b', 'c', 'c', 'c'])"
      ],
      "metadata": {
        "id": "HW0DbceWAz66"
      },
      "execution_count": 86,
      "outputs": []
    },
    {
      "cell_type": "code",
      "source": [
        "c"
      ],
      "metadata": {
        "colab": {
          "base_uri": "https://localhost:8080/"
        },
        "id": "3vLynonXB2iv",
        "outputId": "d336ae08-2543-4a5c-f876-1f2c316d331a"
      },
      "execution_count": 87,
      "outputs": [
        {
          "output_type": "execute_result",
          "data": {
            "text/plain": [
              "Counter({'a': 2, 'b': 1, 'c': 3})"
            ]
          },
          "metadata": {},
          "execution_count": 87
        }
      ]
    },
    {
      "cell_type": "code",
      "source": [
        "c = Counter({'a':1, 'b':2})"
      ],
      "metadata": {
        "id": "g9PI0vNeB23v"
      },
      "execution_count": 88,
      "outputs": []
    },
    {
      "cell_type": "code",
      "source": [
        "c"
      ],
      "metadata": {
        "colab": {
          "base_uri": "https://localhost:8080/"
        },
        "id": "zEPVL8ziCxqE",
        "outputId": "44e23c6b-6883-430d-be11-be9b1f0ab70b"
      },
      "execution_count": 89,
      "outputs": [
        {
          "output_type": "execute_result",
          "data": {
            "text/plain": [
              "Counter({'a': 1, 'b': 2})"
            ]
          },
          "metadata": {},
          "execution_count": 89
        }
      ]
    },
    {
      "cell_type": "code",
      "source": [
        "c = Counter(cats=4, dogs=7)"
      ],
      "metadata": {
        "id": "cH6VYRbWCyE6"
      },
      "execution_count": 90,
      "outputs": []
    },
    {
      "cell_type": "code",
      "source": [
        "c"
      ],
      "metadata": {
        "colab": {
          "base_uri": "https://localhost:8080/"
        },
        "id": "3BdorEk-C8tg",
        "outputId": "8697e171-4e36-453e-d5a4-8dfc967a94aa"
      },
      "execution_count": 91,
      "outputs": [
        {
          "output_type": "execute_result",
          "data": {
            "text/plain": [
              "Counter({'cats': 4, 'dogs': 7})"
            ]
          },
          "metadata": {},
          "execution_count": 91
        }
      ]
    },
    {
      "cell_type": "code",
      "source": [
        "c['cats']"
      ],
      "metadata": {
        "colab": {
          "base_uri": "https://localhost:8080/"
        },
        "id": "AglXYrhuC8_8",
        "outputId": "ba9ae2f9-26d6-4031-bfe9-af662ac8d011"
      },
      "execution_count": 92,
      "outputs": [
        {
          "output_type": "execute_result",
          "data": {
            "text/plain": [
              "4"
            ]
          },
          "metadata": {},
          "execution_count": 92
        }
      ]
    },
    {
      "cell_type": "code",
      "source": [
        "list(c.elements())"
      ],
      "metadata": {
        "colab": {
          "base_uri": "https://localhost:8080/"
        },
        "id": "LqKcO4S7DGGO",
        "outputId": "1d9b6dbb-9618-4ccc-9ab4-0e0bab0a068a"
      },
      "execution_count": 93,
      "outputs": [
        {
          "output_type": "execute_result",
          "data": {
            "text/plain": [
              "['cats',\n",
              " 'cats',\n",
              " 'cats',\n",
              " 'cats',\n",
              " 'dogs',\n",
              " 'dogs',\n",
              " 'dogs',\n",
              " 'dogs',\n",
              " 'dogs',\n",
              " 'dogs',\n",
              " 'dogs']"
            ]
          },
          "metadata": {},
          "execution_count": 93
        }
      ]
    },
    {
      "cell_type": "code",
      "source": [
        "c.most_common(1)"
      ],
      "metadata": {
        "colab": {
          "base_uri": "https://localhost:8080/"
        },
        "id": "7Y5G3eqwHqlu",
        "outputId": "bf1d4e87-66e4-4936-ef24-b526eb08dbff"
      },
      "execution_count": 94,
      "outputs": [
        {
          "output_type": "execute_result",
          "data": {
            "text/plain": [
              "[('dogs', 7)]"
            ]
          },
          "metadata": {},
          "execution_count": 94
        }
      ]
    },
    {
      "cell_type": "code",
      "source": [
        "c = Counter(a=4, b=2, c=1, d=-2)\n",
        "d = ['a', 'a', 'b', 'c']\n",
        "c.subtract(d)\n",
        "c"
      ],
      "metadata": {
        "colab": {
          "base_uri": "https://localhost:8080/"
        },
        "id": "sNB1bOQNKkOG",
        "outputId": "be761922-74ed-486a-9966-085a3f39faaa"
      },
      "execution_count": 95,
      "outputs": [
        {
          "output_type": "execute_result",
          "data": {
            "text/plain": [
              "Counter({'a': 2, 'b': 1, 'c': 0, 'd': -2})"
            ]
          },
          "metadata": {},
          "execution_count": 95
        }
      ]
    },
    {
      "cell_type": "code",
      "source": [
        "c.update(d)\n",
        "c"
      ],
      "metadata": {
        "colab": {
          "base_uri": "https://localhost:8080/"
        },
        "id": "QZguo_5nPhCQ",
        "outputId": "86ef3a7d-ea42-46b5-d643-7219d3e7d031"
      },
      "execution_count": 96,
      "outputs": [
        {
          "output_type": "execute_result",
          "data": {
            "text/plain": [
              "Counter({'a': 4, 'b': 2, 'c': 1, 'd': -2})"
            ]
          },
          "metadata": {},
          "execution_count": 96
        }
      ]
    },
    {
      "cell_type": "code",
      "source": [
        "c.clear()\n",
        "c"
      ],
      "metadata": {
        "colab": {
          "base_uri": "https://localhost:8080/"
        },
        "id": "s6mLWr1pPyfx",
        "outputId": "a9e6e65f-0ed7-425b-b7e5-cc856d0c2fa7"
      },
      "execution_count": 97,
      "outputs": [
        {
          "output_type": "execute_result",
          "data": {
            "text/plain": [
              "Counter()"
            ]
          },
          "metadata": {},
          "execution_count": 97
        }
      ]
    },
    {
      "cell_type": "code",
      "source": [
        "d = Counter(d)"
      ],
      "metadata": {
        "id": "fcjLu9NnP72K"
      },
      "execution_count": 98,
      "outputs": []
    },
    {
      "cell_type": "code",
      "source": [
        "c + d"
      ],
      "metadata": {
        "colab": {
          "base_uri": "https://localhost:8080/"
        },
        "id": "tw-WbxmaQHmJ",
        "outputId": "f77d44ed-e9cd-4a14-9c8e-a01a18aa2b80"
      },
      "execution_count": 99,
      "outputs": [
        {
          "output_type": "execute_result",
          "data": {
            "text/plain": [
              "Counter({'a': 2, 'b': 1, 'c': 1})"
            ]
          },
          "metadata": {},
          "execution_count": 99
        }
      ]
    },
    {
      "cell_type": "code",
      "source": [
        "c = Counter(a=4, b=2, c=1, d=-2)\n",
        "d =Counter(['a', 'a', 'b', 'c'])"
      ],
      "metadata": {
        "id": "YKd85_jcQlz1"
      },
      "execution_count": 100,
      "outputs": []
    },
    {
      "cell_type": "code",
      "source": [
        "c & d # intersection will show the minimum common number of elements"
      ],
      "metadata": {
        "colab": {
          "base_uri": "https://localhost:8080/"
        },
        "id": "8rhfY2peRiCq",
        "outputId": "adc72a69-c6f3-4be2-d25a-9ca85249b036"
      },
      "execution_count": 101,
      "outputs": [
        {
          "output_type": "execute_result",
          "data": {
            "text/plain": [
              "Counter({'a': 2, 'b': 1, 'c': 1})"
            ]
          },
          "metadata": {},
          "execution_count": 101
        }
      ]
    },
    {
      "cell_type": "code",
      "source": [
        "c | d  # union will show the maximum number of elements"
      ],
      "metadata": {
        "colab": {
          "base_uri": "https://localhost:8080/"
        },
        "id": "aWfwdANARjbl",
        "outputId": "56dddba5-89be-4a74-afa1-60b382e086ba"
      },
      "execution_count": 102,
      "outputs": [
        {
          "output_type": "execute_result",
          "data": {
            "text/plain": [
              "Counter({'a': 4, 'b': 2, 'c': 1})"
            ]
          },
          "metadata": {},
          "execution_count": 102
        }
      ]
    },
    {
      "cell_type": "markdown",
      "source": [
        "# **namedtuple**"
      ],
      "metadata": {
        "id": "bXprXsxYRxT6"
      }
    },
    {
      "cell_type": "code",
      "source": [
        "from collections import namedtuple\n"
      ],
      "metadata": {
        "id": "6-CFy9sRV8eY"
      },
      "execution_count": 2,
      "outputs": []
    },
    {
      "cell_type": "code",
      "source": [
        "Point = namedtuple('Point', 'x gy hz k')"
      ],
      "metadata": {
        "id": "0G8bg9-pyWY4"
      },
      "execution_count": 6,
      "outputs": []
    },
    {
      "cell_type": "code",
      "source": [
        "newP = Point(3, 4, 5, 5)\n",
        "newP"
      ],
      "metadata": {
        "colab": {
          "base_uri": "https://localhost:8080/"
        },
        "id": "QsZ69XONypB_",
        "outputId": "a99b37df-d3ad-40a3-9d2f-5906b510714b"
      },
      "execution_count": 7,
      "outputs": [
        {
          "output_type": "execute_result",
          "data": {
            "text/plain": [
              "Point(x=3, gy=4, hz=5, k=5)"
            ]
          },
          "metadata": {},
          "execution_count": 7
        }
      ]
    },
    {
      "cell_type": "code",
      "source": [
        "Point = namedtuple('Point', ['a', 'b', 'c'])\n",
        "newP = Point(2,3,5)\n",
        "newP"
      ],
      "metadata": {
        "colab": {
          "base_uri": "https://localhost:8080/"
        },
        "id": "jm63kc55y1ha",
        "outputId": "d43330e1-c5b2-4e0e-d538-e84b0dffd289"
      },
      "execution_count": 9,
      "outputs": [
        {
          "output_type": "execute_result",
          "data": {
            "text/plain": [
              "Point(a=2, b=3, c=5)"
            ]
          },
          "metadata": {},
          "execution_count": 9
        }
      ]
    },
    {
      "cell_type": "code",
      "source": [
        "Point = namedtuple('Point', {'x':0, 'y':0, 'z':0})\n",
        "newP = Point(2,3,5)\n",
        "newP"
      ],
      "metadata": {
        "colab": {
          "base_uri": "https://localhost:8080/"
        },
        "id": "7tJTuRt05FQC",
        "outputId": "722911a9-2c73-48a0-81a8-1164b92ed405"
      },
      "execution_count": 10,
      "outputs": [
        {
          "output_type": "execute_result",
          "data": {
            "text/plain": [
              "Point(x=2, y=3, z=5)"
            ]
          },
          "metadata": {},
          "execution_count": 10
        }
      ]
    },
    {
      "cell_type": "code",
      "source": [
        "(newP.x, newP.y, newP.z)"
      ],
      "metadata": {
        "colab": {
          "base_uri": "https://localhost:8080/"
        },
        "id": "APbLHYaf5gzp",
        "outputId": "4c21dc22-aeda-479f-d5dd-b09644cc1672"
      },
      "execution_count": 11,
      "outputs": [
        {
          "output_type": "execute_result",
          "data": {
            "text/plain": [
              "(2, 3, 5)"
            ]
          },
          "metadata": {},
          "execution_count": 11
        }
      ]
    },
    {
      "cell_type": "code",
      "source": [
        "newP[0]"
      ],
      "metadata": {
        "colab": {
          "base_uri": "https://localhost:8080/"
        },
        "id": "gRWgeqdy54s6",
        "outputId": "ffa40231-68ea-4133-bf34-7755f88a974d"
      },
      "execution_count": 12,
      "outputs": [
        {
          "output_type": "execute_result",
          "data": {
            "text/plain": [
              "2"
            ]
          },
          "metadata": {},
          "execution_count": 12
        }
      ]
    },
    {
      "cell_type": "code",
      "source": [
        "newP._asdict()"
      ],
      "metadata": {
        "colab": {
          "base_uri": "https://localhost:8080/"
        },
        "id": "wqfD7pID6DX8",
        "outputId": "cc831688-1d5d-4edf-a975-0b6fe4164489"
      },
      "execution_count": 13,
      "outputs": [
        {
          "output_type": "execute_result",
          "data": {
            "text/plain": [
              "OrderedDict([('x', 2), ('y', 3), ('z', 5)])"
            ]
          },
          "metadata": {},
          "execution_count": 13
        }
      ]
    },
    {
      "cell_type": "code",
      "source": [
        "newP._fields"
      ],
      "metadata": {
        "colab": {
          "base_uri": "https://localhost:8080/"
        },
        "id": "EUkMRhfQ6RsY",
        "outputId": "548aabb6-0ecf-4b80-af39-fa40486c1f53"
      },
      "execution_count": 15,
      "outputs": [
        {
          "output_type": "execute_result",
          "data": {
            "text/plain": [
              "('x', 'y', 'z')"
            ]
          },
          "metadata": {},
          "execution_count": 15
        }
      ]
    },
    {
      "cell_type": "code",
      "source": [
        "newP = newP._replace(x=6)\n",
        "newP"
      ],
      "metadata": {
        "colab": {
          "base_uri": "https://localhost:8080/"
        },
        "id": "-8ND4lTT6hLT",
        "outputId": "89a6fe83-19cb-4a90-c9ab-6643969f73e4"
      },
      "execution_count": 16,
      "outputs": [
        {
          "output_type": "execute_result",
          "data": {
            "text/plain": [
              "Point(x=6, y=3, z=5)"
            ]
          },
          "metadata": {},
          "execution_count": 16
        }
      ]
    },
    {
      "cell_type": "code",
      "source": [
        "p2 = Point._make(['a', 'b', 'c'])"
      ],
      "metadata": {
        "id": "eIhIbJTo7Dpj"
      },
      "execution_count": 17,
      "outputs": []
    },
    {
      "cell_type": "code",
      "source": [
        "p2"
      ],
      "metadata": {
        "colab": {
          "base_uri": "https://localhost:8080/"
        },
        "id": "xTL_iVxB7gvM",
        "outputId": "a6ae3034-8040-443f-a9d5-b5582aca26a0"
      },
      "execution_count": 18,
      "outputs": [
        {
          "output_type": "execute_result",
          "data": {
            "text/plain": [
              "Point(x='a', y='b', z='c')"
            ]
          },
          "metadata": {},
          "execution_count": 18
        }
      ]
    },
    {
      "cell_type": "markdown",
      "source": [
        "# **deque**"
      ],
      "metadata": {
        "id": "3Db15ViW7hRE"
      }
    },
    {
      "cell_type": "code",
      "source": [
        "from collections import deque"
      ],
      "metadata": {
        "id": "SXG1--jm8G0V"
      },
      "execution_count": 19,
      "outputs": []
    },
    {
      "cell_type": "code",
      "source": [
        "d = deque('hello')"
      ],
      "metadata": {
        "id": "oDQxY0EN8Ldj"
      },
      "execution_count": 20,
      "outputs": []
    },
    {
      "cell_type": "code",
      "source": [
        "d"
      ],
      "metadata": {
        "colab": {
          "base_uri": "https://localhost:8080/"
        },
        "id": "fXh3-YV_8eNm",
        "outputId": "8a9e5f33-dc46-4549-b618-15ce75438b17"
      },
      "execution_count": 21,
      "outputs": [
        {
          "output_type": "execute_result",
          "data": {
            "text/plain": [
              "deque(['h', 'e', 'l', 'l', 'o'])"
            ]
          },
          "metadata": {},
          "execution_count": 21
        }
      ]
    },
    {
      "cell_type": "code",
      "source": [
        "d.append(4)\n",
        "d"
      ],
      "metadata": {
        "colab": {
          "base_uri": "https://localhost:8080/"
        },
        "id": "S6Vo5GEp8ebm",
        "outputId": "1d3b2209-e9c0-493e-d4c6-da40b6849b74"
      },
      "execution_count": 24,
      "outputs": [
        {
          "output_type": "execute_result",
          "data": {
            "text/plain": [
              "deque(['h', 'e', 'l', 'l', 'o', 4, 4, 4])"
            ]
          },
          "metadata": {},
          "execution_count": 24
        }
      ]
    },
    {
      "cell_type": "code",
      "source": [
        "d.appendleft(2)"
      ],
      "metadata": {
        "id": "kzhPESme8qR6"
      },
      "execution_count": 25,
      "outputs": []
    },
    {
      "cell_type": "code",
      "source": [
        "d"
      ],
      "metadata": {
        "colab": {
          "base_uri": "https://localhost:8080/"
        },
        "id": "IZDFxXVH83hn",
        "outputId": "2eaf235c-07a9-4229-9cbe-0d4fdee50690"
      },
      "execution_count": 26,
      "outputs": [
        {
          "output_type": "execute_result",
          "data": {
            "text/plain": [
              "deque([2, 'h', 'e', 'l', 'l', 'o', 4, 4, 4])"
            ]
          },
          "metadata": {},
          "execution_count": 26
        }
      ]
    },
    {
      "cell_type": "code",
      "source": [
        "d.pop()"
      ],
      "metadata": {
        "colab": {
          "base_uri": "https://localhost:8080/"
        },
        "id": "WrlYkpWo84MP",
        "outputId": "0e787852-2813-4531-c02a-e2353d73e70f"
      },
      "execution_count": 27,
      "outputs": [
        {
          "output_type": "execute_result",
          "data": {
            "text/plain": [
              "4"
            ]
          },
          "metadata": {},
          "execution_count": 27
        }
      ]
    },
    {
      "cell_type": "code",
      "source": [
        "d"
      ],
      "metadata": {
        "colab": {
          "base_uri": "https://localhost:8080/"
        },
        "id": "nLXyXTLm-BW2",
        "outputId": "b3775047-7af9-46ba-b803-2da3b21ce0ea"
      },
      "execution_count": 28,
      "outputs": [
        {
          "output_type": "execute_result",
          "data": {
            "text/plain": [
              "deque([2, 'h', 'e', 'l', 'l', 'o', 4, 4])"
            ]
          },
          "metadata": {},
          "execution_count": 28
        }
      ]
    },
    {
      "cell_type": "code",
      "source": [
        "d.pop()"
      ],
      "metadata": {
        "colab": {
          "base_uri": "https://localhost:8080/"
        },
        "id": "Xbz506eA-B1E",
        "outputId": "d701b8fd-7c64-4b77-b624-0ea922a7cf08"
      },
      "execution_count": 29,
      "outputs": [
        {
          "output_type": "execute_result",
          "data": {
            "text/plain": [
              "4"
            ]
          },
          "metadata": {},
          "execution_count": 29
        }
      ]
    },
    {
      "cell_type": "code",
      "source": [
        "d"
      ],
      "metadata": {
        "colab": {
          "base_uri": "https://localhost:8080/"
        },
        "id": "DoyoSAwG-Dzx",
        "outputId": "578188b5-3513-4704-d14d-0e9b2f75e620"
      },
      "execution_count": 30,
      "outputs": [
        {
          "output_type": "execute_result",
          "data": {
            "text/plain": [
              "deque([2, 'h', 'e', 'l', 'l', 'o', 4])"
            ]
          },
          "metadata": {},
          "execution_count": 30
        }
      ]
    },
    {
      "cell_type": "code",
      "source": [
        "d.popleft()"
      ],
      "metadata": {
        "colab": {
          "base_uri": "https://localhost:8080/"
        },
        "id": "TY6b6cyl-EL_",
        "outputId": "265e03f7-7ee7-4028-b30f-6924e4584ce5"
      },
      "execution_count": 31,
      "outputs": [
        {
          "output_type": "execute_result",
          "data": {
            "text/plain": [
              "2"
            ]
          },
          "metadata": {},
          "execution_count": 31
        }
      ]
    },
    {
      "cell_type": "code",
      "source": [
        "d"
      ],
      "metadata": {
        "colab": {
          "base_uri": "https://localhost:8080/"
        },
        "id": "pIF1AWRd-Gs-",
        "outputId": "cc0fe698-82b6-4022-fc02-dd53e27b3ff9"
      },
      "execution_count": 32,
      "outputs": [
        {
          "output_type": "execute_result",
          "data": {
            "text/plain": [
              "deque(['h', 'e', 'l', 'l', 'o', 4])"
            ]
          },
          "metadata": {},
          "execution_count": 32
        }
      ]
    },
    {
      "cell_type": "code",
      "source": [
        "d.pop()"
      ],
      "metadata": {
        "colab": {
          "base_uri": "https://localhost:8080/"
        },
        "id": "FQft1cqQ-HBx",
        "outputId": "7cc327ad-c508-4b82-f0fe-211f8c179fe3"
      },
      "execution_count": 34,
      "outputs": [
        {
          "output_type": "execute_result",
          "data": {
            "text/plain": [
              "4"
            ]
          },
          "metadata": {},
          "execution_count": 34
        }
      ]
    },
    {
      "cell_type": "code",
      "source": [
        "d"
      ],
      "metadata": {
        "colab": {
          "base_uri": "https://localhost:8080/"
        },
        "id": "HW5bYBbS-SM6",
        "outputId": "4d14f15c-651c-46af-e575-02b882285367"
      },
      "execution_count": 35,
      "outputs": [
        {
          "output_type": "execute_result",
          "data": {
            "text/plain": [
              "deque(['h', 'e', 'l', 'l', 'o'])"
            ]
          },
          "metadata": {},
          "execution_count": 35
        }
      ]
    },
    {
      "cell_type": "code",
      "source": [
        "d.clear()"
      ],
      "metadata": {
        "id": "mSodNkzm-SgK"
      },
      "execution_count": 36,
      "outputs": []
    },
    {
      "cell_type": "code",
      "source": [
        "d"
      ],
      "metadata": {
        "colab": {
          "base_uri": "https://localhost:8080/"
        },
        "id": "9DaXpXbe-h25",
        "outputId": "44944a65-8c21-4f0a-b3b3-a2691cdc1d71"
      },
      "execution_count": 37,
      "outputs": [
        {
          "output_type": "execute_result",
          "data": {
            "text/plain": [
              "deque([])"
            ]
          },
          "metadata": {},
          "execution_count": 37
        }
      ]
    },
    {
      "cell_type": "code",
      "source": [
        "d.extend('hello')"
      ],
      "metadata": {
        "id": "Ef6pqabp-iG8"
      },
      "execution_count": 38,
      "outputs": []
    },
    {
      "cell_type": "code",
      "source": [
        "d"
      ],
      "metadata": {
        "colab": {
          "base_uri": "https://localhost:8080/"
        },
        "id": "GBqDojBJ-t5b",
        "outputId": "0d28976d-8d92-4952-8c5c-4a58d3e5783b"
      },
      "execution_count": 39,
      "outputs": [
        {
          "output_type": "execute_result",
          "data": {
            "text/plain": [
              "deque(['h', 'e', 'l', 'l', 'o'])"
            ]
          },
          "metadata": {},
          "execution_count": 39
        }
      ]
    },
    {
      "cell_type": "code",
      "source": [
        "d.extend('456')"
      ],
      "metadata": {
        "id": "DXuBqW2V-uI7"
      },
      "execution_count": 40,
      "outputs": []
    },
    {
      "cell_type": "code",
      "source": [
        "d"
      ],
      "metadata": {
        "colab": {
          "base_uri": "https://localhost:8080/"
        },
        "id": "PLe21PKb-zzC",
        "outputId": "a0639221-daa2-4575-9c72-8c57e76fe2d2"
      },
      "execution_count": 41,
      "outputs": [
        {
          "output_type": "execute_result",
          "data": {
            "text/plain": [
              "deque(['h', 'e', 'l', 'l', 'o', '4', '5', '6'])"
            ]
          },
          "metadata": {},
          "execution_count": 41
        }
      ]
    },
    {
      "cell_type": "code",
      "source": [
        "d.extendleft('123')"
      ],
      "metadata": {
        "id": "dDXWhCxw-0B5"
      },
      "execution_count": 42,
      "outputs": []
    },
    {
      "cell_type": "code",
      "source": [
        "d"
      ],
      "metadata": {
        "colab": {
          "base_uri": "https://localhost:8080/"
        },
        "id": "4gSE8JI4_GNr",
        "outputId": "3ca8dbcc-428e-41d6-d01b-163bad0e629f"
      },
      "execution_count": 43,
      "outputs": [
        {
          "output_type": "execute_result",
          "data": {
            "text/plain": [
              "deque(['3', '2', '1', 'h', 'e', 'l', 'l', 'o', '4', '5', '6'])"
            ]
          },
          "metadata": {},
          "execution_count": 43
        }
      ]
    },
    {
      "cell_type": "code",
      "source": [
        "d.rotate(-1)\n",
        "d"
      ],
      "metadata": {
        "colab": {
          "base_uri": "https://localhost:8080/"
        },
        "id": "qbwLReyX_GdT",
        "outputId": "b51c67b8-0188-4c84-846b-7e3dedd0c71b"
      },
      "execution_count": 44,
      "outputs": [
        {
          "output_type": "execute_result",
          "data": {
            "text/plain": [
              "deque(['2', '1', 'h', 'e', 'l', 'l', 'o', '4', '5', '6', '3'])"
            ]
          },
          "metadata": {},
          "execution_count": 44
        }
      ]
    },
    {
      "cell_type": "code",
      "source": [
        "d.rotate(2)\n",
        "d"
      ],
      "metadata": {
        "colab": {
          "base_uri": "https://localhost:8080/"
        },
        "id": "h-g2gLIY_iWJ",
        "outputId": "859df984-cbca-4f53-ef20-6ffd1836d734"
      },
      "execution_count": 45,
      "outputs": [
        {
          "output_type": "execute_result",
          "data": {
            "text/plain": [
              "deque(['6', '3', '2', '1', 'h', 'e', 'l', 'l', 'o', '4', '5'])"
            ]
          },
          "metadata": {},
          "execution_count": 45
        }
      ]
    },
    {
      "cell_type": "code",
      "source": [
        "d = deque('hello', maxlen=5)\n",
        "d"
      ],
      "metadata": {
        "colab": {
          "base_uri": "https://localhost:8080/"
        },
        "id": "KtZHw138_nqi",
        "outputId": "a9c9951a-4a50-4a00-c93d-a3471a8fa901"
      },
      "execution_count": 46,
      "outputs": [
        {
          "output_type": "execute_result",
          "data": {
            "text/plain": [
              "deque(['h', 'e', 'l', 'l', 'o'])"
            ]
          },
          "metadata": {},
          "execution_count": 46
        }
      ]
    },
    {
      "cell_type": "code",
      "source": [
        "d.append(1)\n",
        "d"
      ],
      "metadata": {
        "colab": {
          "base_uri": "https://localhost:8080/"
        },
        "id": "X3hrG6V9AnU_",
        "outputId": "5f288e95-3966-41df-af75-a59820c0a771"
      },
      "execution_count": 47,
      "outputs": [
        {
          "output_type": "execute_result",
          "data": {
            "text/plain": [
              "deque(['e', 'l', 'l', 'o', 1])"
            ]
          },
          "metadata": {},
          "execution_count": 47
        }
      ]
    },
    {
      "cell_type": "code",
      "source": [
        "d.append('123')"
      ],
      "metadata": {
        "id": "8kocMto0Arx4"
      },
      "execution_count": 48,
      "outputs": []
    },
    {
      "cell_type": "code",
      "source": [
        "d"
      ],
      "metadata": {
        "colab": {
          "base_uri": "https://localhost:8080/"
        },
        "id": "j2DH5N5qAwfd",
        "outputId": "9acc1d97-3df4-4f4d-a755-db001d4ea81d"
      },
      "execution_count": 49,
      "outputs": [
        {
          "output_type": "execute_result",
          "data": {
            "text/plain": [
              "deque(['l', 'l', 'o', 1, '123'])"
            ]
          },
          "metadata": {},
          "execution_count": 49
        }
      ]
    },
    {
      "cell_type": "code",
      "source": [
        "d.append(123)\n",
        "d"
      ],
      "metadata": {
        "colab": {
          "base_uri": "https://localhost:8080/"
        },
        "id": "bNYZgqpFAxGr",
        "outputId": "e95dca15-2415-47db-bd9c-d705a1630cf7"
      },
      "execution_count": 50,
      "outputs": [
        {
          "output_type": "execute_result",
          "data": {
            "text/plain": [
              "deque(['l', 'o', 1, '123', 123])"
            ]
          },
          "metadata": {},
          "execution_count": 50
        }
      ]
    },
    {
      "cell_type": "code",
      "source": [
        "d.extend(['1', '3', 4])"
      ],
      "metadata": {
        "id": "ahJzCAVOA4kS"
      },
      "execution_count": 51,
      "outputs": []
    },
    {
      "cell_type": "code",
      "source": [
        "d"
      ],
      "metadata": {
        "colab": {
          "base_uri": "https://localhost:8080/"
        },
        "id": "qM20wF0JBM1B",
        "outputId": "383ac0b2-2f28-45d5-e794-b23d6495f868"
      },
      "execution_count": 52,
      "outputs": [
        {
          "output_type": "execute_result",
          "data": {
            "text/plain": [
              "deque(['123', 123, '1', '3', 4])"
            ]
          },
          "metadata": {},
          "execution_count": 52
        }
      ]
    },
    {
      "cell_type": "code",
      "source": [
        "d.maxlen"
      ],
      "metadata": {
        "colab": {
          "base_uri": "https://localhost:8080/"
        },
        "id": "HtlLK02eBNGK",
        "outputId": "5ac90157-0906-492d-8dd8-cf173943be55"
      },
      "execution_count": 53,
      "outputs": [
        {
          "output_type": "execute_result",
          "data": {
            "text/plain": [
              "5"
            ]
          },
          "metadata": {},
          "execution_count": 53
        }
      ]
    },
    {
      "cell_type": "code",
      "source": [
        "d.reverse()\n",
        "d"
      ],
      "metadata": {
        "colab": {
          "base_uri": "https://localhost:8080/"
        },
        "id": "OQFqu926BYc0",
        "outputId": "fdd9c940-8ee6-4358-b197-9c9bc8908453"
      },
      "execution_count": 54,
      "outputs": [
        {
          "output_type": "execute_result",
          "data": {
            "text/plain": [
              "deque([4, '3', '1', 123, '123'])"
            ]
          },
          "metadata": {},
          "execution_count": 54
        }
      ]
    },
    {
      "cell_type": "code",
      "source": [],
      "metadata": {
        "id": "TtkYAGv8C2qM"
      },
      "execution_count": null,
      "outputs": []
    }
  ]
}