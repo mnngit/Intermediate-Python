{
  "cells": [
    {
      "cell_type": "markdown",
      "metadata": {
        "id": "view-in-github",
        "colab_type": "text"
      },
      "source": [
        "<a href=\"https://colab.research.google.com/github/mnngit/Intermediate-Python/blob/main/python_with_Socratica.ipynb\" target=\"_parent\"><img src=\"https://colab.research.google.com/assets/colab-badge.svg\" alt=\"Open In Colab\"/></a>"
      ]
    },
    {
      "cell_type": "markdown",
      "metadata": {
        "id": "-NG0cwqtkxWO"
      },
      "source": [
        "# **strings**"
      ]
    },
    {
      "cell_type": "code",
      "execution_count": 61,
      "metadata": {
        "id": "idlUl5ydmEIF"
      },
      "outputs": [],
      "source": [
        "message = 'Meet me tonight.'"
      ]
    },
    {
      "cell_type": "code",
      "execution_count": 62,
      "metadata": {
        "colab": {
          "base_uri": "https://localhost:8080/",
          "height": 35
        },
        "id": "3gF9_eEhmIS8",
        "outputId": "e595c85f-510d-479e-9c71-91dcddcafbac"
      },
      "outputs": [
        {
          "output_type": "execute_result",
          "data": {
            "text/plain": [
              "'Meet me tonight.'"
            ],
            "application/vnd.google.colaboratory.intrinsic+json": {
              "type": "string"
            }
          },
          "metadata": {},
          "execution_count": 62
        }
      ],
      "source": [
        "message"
      ]
    },
    {
      "cell_type": "code",
      "execution_count": 63,
      "metadata": {
        "id": "4u_7lCs6nBt0"
      },
      "outputs": [],
      "source": [
        "message2 = 'I\\'m looking for somebody to share in an adventure.'"
      ]
    },
    {
      "cell_type": "code",
      "execution_count": 64,
      "metadata": {
        "colab": {
          "base_uri": "https://localhost:8080/",
          "height": 35
        },
        "id": "zVi2XisZnqOr",
        "outputId": "aa998666-1baf-4c6b-c2f4-e6778be6bd9a"
      },
      "outputs": [
        {
          "output_type": "execute_result",
          "data": {
            "text/plain": [
              "\"I'm looking for somebody to share in an adventure.\""
            ],
            "application/vnd.google.colaboratory.intrinsic+json": {
              "type": "string"
            }
          },
          "metadata": {},
          "execution_count": 64
        }
      ],
      "source": [
        "message2"
      ]
    },
    {
      "cell_type": "code",
      "execution_count": 65,
      "metadata": {
        "id": "I7Vorojanrfd"
      },
      "outputs": [],
      "source": [
        "message2 = \"I'm looking for someone to share in an adventure.\""
      ]
    },
    {
      "cell_type": "code",
      "execution_count": 66,
      "metadata": {
        "colab": {
          "base_uri": "https://localhost:8080/",
          "height": 35
        },
        "id": "n2CNQEwZn7ux",
        "outputId": "5ff336dc-d1c3-4c4c-ded3-e5f6078c1f55"
      },
      "outputs": [
        {
          "output_type": "execute_result",
          "data": {
            "text/plain": [
              "\"I'm looking for someone to share in an adventure.\""
            ],
            "application/vnd.google.colaboratory.intrinsic+json": {
              "type": "string"
            }
          },
          "metadata": {},
          "execution_count": 66
        }
      ],
      "source": [
        "message2"
      ]
    },
    {
      "cell_type": "code",
      "execution_count": 67,
      "metadata": {
        "id": "Fmc0c5D3n9GV"
      },
      "outputs": [],
      "source": [
        "movie_quote = \"\"\"One of my favourite line from The Grandfather is: \n",
        "\"I'm going to make him an offer he can't refuse.\"\n",
        "Do you know who said this?\"\"\""
      ]
    },
    {
      "cell_type": "code",
      "execution_count": 68,
      "metadata": {
        "colab": {
          "base_uri": "https://localhost:8080/",
          "height": 35
        },
        "id": "rjxoXFHJq7sG",
        "outputId": "3083fc47-39bb-43bd-e85f-544201e5ae7f"
      },
      "outputs": [
        {
          "output_type": "execute_result",
          "data": {
            "text/plain": [
              "'One of my favourite line from The Grandfather is: \\n\"I\\'m going to make him an offer he can\\'t refuse.\"\\nDo you know who said this?'"
            ],
            "application/vnd.google.colaboratory.intrinsic+json": {
              "type": "string"
            }
          },
          "metadata": {},
          "execution_count": 68
        }
      ],
      "source": [
        "movie_quote"
      ]
    },
    {
      "cell_type": "code",
      "execution_count": 69,
      "metadata": {
        "id": "I-LpKt6Hw3FG"
      },
      "outputs": [],
      "source": [
        "movie_quote = \"\"\"\n",
        "One of my favourite line from The  Grandfather is: \"I'm going to make him an offer he can't refuse.\" Do you know who said this?\n",
        "\"\"\""
      ]
    },
    {
      "cell_type": "code",
      "execution_count": 70,
      "metadata": {
        "colab": {
          "base_uri": "https://localhost:8080/",
          "height": 35
        },
        "id": "DLpPI9RdxtAY",
        "outputId": "ed22c679-b980-482d-95c3-b821fb394294"
      },
      "outputs": [
        {
          "output_type": "execute_result",
          "data": {
            "text/plain": [
              "'\\nOne of my favourite line from The  Grandfather is: \"I\\'m going to make him an offer he can\\'t refuse.\" Do you know who said this?\\n'"
            ],
            "application/vnd.google.colaboratory.intrinsic+json": {
              "type": "string"
            }
          },
          "metadata": {},
          "execution_count": 70
        }
      ],
      "source": [
        "movie_quote"
      ]
    },
    {
      "cell_type": "markdown",
      "metadata": {
        "id": "wtEMaoGKxx3f"
      },
      "source": [
        "# ***numbers in python3***"
      ]
    },
    {
      "cell_type": "code",
      "execution_count": 71,
      "metadata": {
        "colab": {
          "base_uri": "https://localhost:8080/"
        },
        "id": "-hMkG-Cd2naY",
        "outputId": "10cbb43f-8a7f-4738-e15b-4f14fd826de7"
      },
      "outputs": [
        {
          "output_type": "execute_result",
          "data": {
            "text/plain": [
              "int"
            ]
          },
          "metadata": {},
          "execution_count": 71
        }
      ],
      "source": [
        "# types of numbers: int, float, comples\n",
        "a = 496 # This is an integer(int)\n",
        "type(a)"
      ]
    },
    {
      "cell_type": "code",
      "execution_count": 72,
      "metadata": {
        "colab": {
          "base_uri": "https://localhost:8080/"
        },
        "id": "bRXNSjN76ThD",
        "outputId": "87f91eec-2221-4b97-f0b8-6e1cfac5dbd9"
      },
      "outputs": [
        {
          "output_type": "execute_result",
          "data": {
            "text/plain": [
              "float"
            ]
          },
          "metadata": {},
          "execution_count": 72
        }
      ],
      "source": [
        "e = 2.718281828\n",
        "type(e)"
      ]
    },
    {
      "cell_type": "code",
      "execution_count": 73,
      "metadata": {
        "colab": {
          "base_uri": "https://localhost:8080/"
        },
        "id": "TE6_3a6u7LGG",
        "outputId": "218e2ab3-f183-4f5a-974c-854eef514aae"
      },
      "outputs": [
        {
          "output_type": "execute_result",
          "data": {
            "text/plain": [
              "complex"
            ]
          },
          "metadata": {},
          "execution_count": 73
        }
      ],
      "source": [
        "# comples numbers\n",
        "z = 2 - 6.1j\n",
        "type(z)"
      ]
    },
    {
      "cell_type": "code",
      "execution_count": 74,
      "metadata": {
        "colab": {
          "base_uri": "https://localhost:8080/"
        },
        "id": "dEcRW049-LRv",
        "outputId": "3d4a39a3-e6d4-4e7e-ddbf-95569a06a01b"
      },
      "outputs": [
        {
          "output_type": "execute_result",
          "data": {
            "text/plain": [
              "2.0"
            ]
          },
          "metadata": {},
          "execution_count": 74
        }
      ],
      "source": [
        "z.real"
      ]
    },
    {
      "cell_type": "code",
      "execution_count": 75,
      "metadata": {
        "colab": {
          "base_uri": "https://localhost:8080/"
        },
        "id": "9DjdgcO6-TMy",
        "outputId": "e9b0c9ea-9a9b-40c9-a41d-21634f88d231"
      },
      "outputs": [
        {
          "output_type": "execute_result",
          "data": {
            "text/plain": [
              "-6.1"
            ]
          },
          "metadata": {},
          "execution_count": 75
        }
      ],
      "source": [
        "z.imag"
      ]
    },
    {
      "cell_type": "code",
      "execution_count": 76,
      "metadata": {
        "colab": {
          "base_uri": "https://localhost:8080/"
        },
        "id": "yUIJQhpl-aIO",
        "outputId": "5a3b37b1-ae96-436d-dbd4-7ecd1a674352"
      },
      "outputs": [
        {
          "output_type": "execute_result",
          "data": {
            "text/plain": [
              "23.0"
            ]
          },
          "metadata": {},
          "execution_count": 76
        }
      ],
      "source": [
        "float(23)"
      ]
    },
    {
      "cell_type": "code",
      "execution_count": 77,
      "metadata": {
        "colab": {
          "base_uri": "https://localhost:8080/"
        },
        "id": "ZXgNBVv0A_Zo",
        "outputId": "ee422b43-f709-4859-806a-eb7a97f54fb1"
      },
      "outputs": [
        {
          "output_type": "execute_result",
          "data": {
            "text/plain": [
              "(1.732+0j)"
            ]
          },
          "metadata": {},
          "execution_count": 77
        }
      ],
      "source": [
        "x = 1.732\n",
        "1.732 + 0j"
      ]
    },
    {
      "cell_type": "code",
      "execution_count": 78,
      "metadata": {
        "colab": {
          "base_uri": "https://localhost:8080/"
        },
        "id": "8RtVRxz4DsAX",
        "outputId": "91e32f6b-7ce2-4fbb-ee09-fbd33ab05d58"
      },
      "outputs": [
        {
          "output_type": "execute_result",
          "data": {
            "text/plain": [
              "(1.732+0j)"
            ]
          },
          "metadata": {},
          "execution_count": 78
        }
      ],
      "source": [
        "complex(x)"
      ]
    },
    {
      "cell_type": "code",
      "execution_count": 79,
      "metadata": {
        "colab": {
          "base_uri": "https://localhost:8080/"
        },
        "id": "z6aeMULVDzNc",
        "outputId": "89089461-43a5-4026-c337-e7fbf4a357d8"
      },
      "outputs": [
        {
          "output_type": "execute_result",
          "data": {
            "text/plain": [
              "['In',\n",
              " 'Out',\n",
              " '_',\n",
              " '_10',\n",
              " '_12',\n",
              " '_13',\n",
              " '_14',\n",
              " '_15',\n",
              " '_16',\n",
              " '_17',\n",
              " '_18',\n",
              " '_19',\n",
              " '_20',\n",
              " '_21',\n",
              " '_22',\n",
              " '_24',\n",
              " '_25',\n",
              " '_27',\n",
              " '_28',\n",
              " '_29',\n",
              " '_32',\n",
              " '_33',\n",
              " '_35',\n",
              " '_37',\n",
              " '_38',\n",
              " '_4',\n",
              " '_41',\n",
              " '_44',\n",
              " '_45',\n",
              " '_46',\n",
              " '_47',\n",
              " '_49',\n",
              " '_50',\n",
              " '_53',\n",
              " '_55',\n",
              " '_56',\n",
              " '_57',\n",
              " '_59',\n",
              " '_6',\n",
              " '_60',\n",
              " '_62',\n",
              " '_64',\n",
              " '_66',\n",
              " '_68',\n",
              " '_70',\n",
              " '_71',\n",
              " '_72',\n",
              " '_73',\n",
              " '_74',\n",
              " '_75',\n",
              " '_76',\n",
              " '_77',\n",
              " '_78',\n",
              " '_8',\n",
              " '__',\n",
              " '___',\n",
              " '__builtin__',\n",
              " '__builtins__',\n",
              " '__doc__',\n",
              " '__loader__',\n",
              " '__name__',\n",
              " '__package__',\n",
              " '__spec__',\n",
              " '_dh',\n",
              " '_i',\n",
              " '_i1',\n",
              " '_i10',\n",
              " '_i11',\n",
              " '_i12',\n",
              " '_i13',\n",
              " '_i14',\n",
              " '_i15',\n",
              " '_i16',\n",
              " '_i17',\n",
              " '_i18',\n",
              " '_i19',\n",
              " '_i2',\n",
              " '_i20',\n",
              " '_i21',\n",
              " '_i22',\n",
              " '_i23',\n",
              " '_i24',\n",
              " '_i25',\n",
              " '_i26',\n",
              " '_i27',\n",
              " '_i28',\n",
              " '_i29',\n",
              " '_i3',\n",
              " '_i30',\n",
              " '_i31',\n",
              " '_i32',\n",
              " '_i33',\n",
              " '_i34',\n",
              " '_i35',\n",
              " '_i36',\n",
              " '_i37',\n",
              " '_i38',\n",
              " '_i39',\n",
              " '_i4',\n",
              " '_i40',\n",
              " '_i41',\n",
              " '_i42',\n",
              " '_i43',\n",
              " '_i44',\n",
              " '_i45',\n",
              " '_i46',\n",
              " '_i47',\n",
              " '_i48',\n",
              " '_i49',\n",
              " '_i5',\n",
              " '_i50',\n",
              " '_i51',\n",
              " '_i52',\n",
              " '_i53',\n",
              " '_i54',\n",
              " '_i55',\n",
              " '_i56',\n",
              " '_i57',\n",
              " '_i58',\n",
              " '_i59',\n",
              " '_i6',\n",
              " '_i60',\n",
              " '_i61',\n",
              " '_i62',\n",
              " '_i63',\n",
              " '_i64',\n",
              " '_i65',\n",
              " '_i66',\n",
              " '_i67',\n",
              " '_i68',\n",
              " '_i69',\n",
              " '_i7',\n",
              " '_i70',\n",
              " '_i71',\n",
              " '_i72',\n",
              " '_i73',\n",
              " '_i74',\n",
              " '_i75',\n",
              " '_i76',\n",
              " '_i77',\n",
              " '_i78',\n",
              " '_i79',\n",
              " '_i8',\n",
              " '_i9',\n",
              " '_ih',\n",
              " '_ii',\n",
              " '_iii',\n",
              " '_oh',\n",
              " 'a',\n",
              " 'b',\n",
              " 'datetime',\n",
              " 'dt',\n",
              " 'e',\n",
              " 'exit',\n",
              " 'get_ipython',\n",
              " 'gvr',\n",
              " 'launch_date',\n",
              " 'launch_datetime',\n",
              " 'launch_time',\n",
              " 'math',\n",
              " 'message',\n",
              " 'message2',\n",
              " 'mill',\n",
              " 'movie_quote',\n",
              " 'quit',\n",
              " 'x',\n",
              " 'z']"
            ]
          },
          "metadata": {},
          "execution_count": 79
        }
      ],
      "source": [
        "dir()"
      ]
    },
    {
      "cell_type": "code",
      "execution_count": 80,
      "metadata": {
        "colab": {
          "base_uri": "https://localhost:8080/"
        },
        "id": "YfH2PZwEftWb",
        "outputId": "e963ab7b-8a03-4fa0-a1f6-03bfff77813e"
      },
      "outputs": [
        {
          "output_type": "execute_result",
          "data": {
            "text/plain": [
              "['ArithmeticError',\n",
              " 'AssertionError',\n",
              " 'AttributeError',\n",
              " 'BaseException',\n",
              " 'BlockingIOError',\n",
              " 'BrokenPipeError',\n",
              " 'BufferError',\n",
              " 'BytesWarning',\n",
              " 'ChildProcessError',\n",
              " 'ConnectionAbortedError',\n",
              " 'ConnectionError',\n",
              " 'ConnectionRefusedError',\n",
              " 'ConnectionResetError',\n",
              " 'DeprecationWarning',\n",
              " 'EOFError',\n",
              " 'Ellipsis',\n",
              " 'EnvironmentError',\n",
              " 'Exception',\n",
              " 'False',\n",
              " 'FileExistsError',\n",
              " 'FileNotFoundError',\n",
              " 'FloatingPointError',\n",
              " 'FutureWarning',\n",
              " 'GeneratorExit',\n",
              " 'IOError',\n",
              " 'ImportError',\n",
              " 'ImportWarning',\n",
              " 'IndentationError',\n",
              " 'IndexError',\n",
              " 'InterruptedError',\n",
              " 'IsADirectoryError',\n",
              " 'KeyError',\n",
              " 'KeyboardInterrupt',\n",
              " 'LookupError',\n",
              " 'MemoryError',\n",
              " 'ModuleNotFoundError',\n",
              " 'NameError',\n",
              " 'None',\n",
              " 'NotADirectoryError',\n",
              " 'NotImplemented',\n",
              " 'NotImplementedError',\n",
              " 'OSError',\n",
              " 'OverflowError',\n",
              " 'PendingDeprecationWarning',\n",
              " 'PermissionError',\n",
              " 'ProcessLookupError',\n",
              " 'RecursionError',\n",
              " 'ReferenceError',\n",
              " 'ResourceWarning',\n",
              " 'RuntimeError',\n",
              " 'RuntimeWarning',\n",
              " 'StopAsyncIteration',\n",
              " 'StopIteration',\n",
              " 'SyntaxError',\n",
              " 'SyntaxWarning',\n",
              " 'SystemError',\n",
              " 'SystemExit',\n",
              " 'TabError',\n",
              " 'TimeoutError',\n",
              " 'True',\n",
              " 'TypeError',\n",
              " 'UnboundLocalError',\n",
              " 'UnicodeDecodeError',\n",
              " 'UnicodeEncodeError',\n",
              " 'UnicodeError',\n",
              " 'UnicodeTranslateError',\n",
              " 'UnicodeWarning',\n",
              " 'UserWarning',\n",
              " 'ValueError',\n",
              " 'Warning',\n",
              " 'ZeroDivisionError',\n",
              " '__IPYTHON__',\n",
              " '__build_class__',\n",
              " '__cffi_backend_extern_py',\n",
              " '__debug__',\n",
              " '__doc__',\n",
              " '__import__',\n",
              " '__loader__',\n",
              " '__name__',\n",
              " '__package__',\n",
              " '__pybind11_internals_v2__',\n",
              " '__pybind11_internals_v4_gcc_libstdcpp_cxxabi1011__',\n",
              " '__pybind11_internals_v4_gcc_libstdcpp_cxxabi1013__',\n",
              " '__pybind11_internals_v4_gcc_libstdcpp_cxxabi1014__',\n",
              " '__spec__',\n",
              " 'abs',\n",
              " 'all',\n",
              " 'any',\n",
              " 'ascii',\n",
              " 'bin',\n",
              " 'bool',\n",
              " 'breakpoint',\n",
              " 'bytearray',\n",
              " 'bytes',\n",
              " 'callable',\n",
              " 'chr',\n",
              " 'classmethod',\n",
              " 'compile',\n",
              " 'complex',\n",
              " 'copyright',\n",
              " 'credits',\n",
              " 'delattr',\n",
              " 'dict',\n",
              " 'dir',\n",
              " 'display',\n",
              " 'divmod',\n",
              " 'enumerate',\n",
              " 'eval',\n",
              " 'exec',\n",
              " 'execfile',\n",
              " 'filter',\n",
              " 'float',\n",
              " 'format',\n",
              " 'frozenset',\n",
              " 'get_ipython',\n",
              " 'getattr',\n",
              " 'globals',\n",
              " 'hasattr',\n",
              " 'hash',\n",
              " 'help',\n",
              " 'hex',\n",
              " 'id',\n",
              " 'input',\n",
              " 'int',\n",
              " 'isinstance',\n",
              " 'issubclass',\n",
              " 'iter',\n",
              " 'len',\n",
              " 'license',\n",
              " 'list',\n",
              " 'locals',\n",
              " 'map',\n",
              " 'max',\n",
              " 'memoryview',\n",
              " 'min',\n",
              " 'next',\n",
              " 'object',\n",
              " 'oct',\n",
              " 'open',\n",
              " 'ord',\n",
              " 'pow',\n",
              " 'print',\n",
              " 'property',\n",
              " 'range',\n",
              " 'repr',\n",
              " 'reversed',\n",
              " 'round',\n",
              " 'runfile',\n",
              " 'set',\n",
              " 'setattr',\n",
              " 'slice',\n",
              " 'sorted',\n",
              " 'staticmethod',\n",
              " 'str',\n",
              " 'sum',\n",
              " 'super',\n",
              " 'tuple',\n",
              " 'type',\n",
              " 'vars',\n",
              " 'zip']"
            ]
          },
          "metadata": {},
          "execution_count": 80
        }
      ],
      "source": [
        "dir(__builtins__)"
      ]
    },
    {
      "cell_type": "code",
      "execution_count": 81,
      "metadata": {
        "colab": {
          "base_uri": "https://localhost:8080/"
        },
        "id": "6rTtxGDPgClv",
        "outputId": "bd00f3bf-5c75-4402-dc43-b9a96029c540"
      },
      "outputs": [
        {
          "output_type": "stream",
          "name": "stdout",
          "text": [
            "Help on built-in function pow in module builtins:\n",
            "\n",
            "pow(x, y, z=None, /)\n",
            "    Equivalent to x**y (with two arguments) or x**y % z (with three arguments)\n",
            "    \n",
            "    Some types, such as ints, are able to use a more efficient algorithm when\n",
            "    invoked using the three argument form.\n",
            "\n"
          ]
        }
      ],
      "source": [
        "help(pow)"
      ]
    },
    {
      "cell_type": "code",
      "execution_count": 82,
      "metadata": {
        "colab": {
          "base_uri": "https://localhost:8080/"
        },
        "id": "KuYQ_HX1hZyT",
        "outputId": "4e9c8bbd-1b01-4403-a637-3f5c8fcd274a"
      },
      "outputs": [
        {
          "output_type": "execute_result",
          "data": {
            "text/plain": [
              "1024"
            ]
          },
          "metadata": {},
          "execution_count": 82
        }
      ],
      "source": [
        "pow(2, 10)"
      ]
    },
    {
      "cell_type": "code",
      "execution_count": 83,
      "metadata": {
        "colab": {
          "base_uri": "https://localhost:8080/"
        },
        "id": "FhLJyNFwidqt",
        "outputId": "48e53d7f-29a7-417d-d8e9-c6ffdaae35b7"
      },
      "outputs": [
        {
          "output_type": "execute_result",
          "data": {
            "text/plain": [
              "1024"
            ]
          },
          "metadata": {},
          "execution_count": 83
        }
      ],
      "source": [
        "2**10"
      ]
    },
    {
      "cell_type": "code",
      "execution_count": 84,
      "metadata": {
        "colab": {
          "base_uri": "https://localhost:8080/"
        },
        "id": "MWaZfoQ4ikaf",
        "outputId": "b95889c1-c14f-4c71-b3db-03929674f7e6"
      },
      "outputs": [
        {
          "output_type": "stream",
          "name": "stdout",
          "text": [
            "Help on built-in function hex in module builtins:\n",
            "\n",
            "hex(number, /)\n",
            "    Return the hexadecimal representation of an integer.\n",
            "    \n",
            "    >>> hex(12648430)\n",
            "    '0xc0ffee'\n",
            "\n"
          ]
        }
      ],
      "source": [
        "help(hex)"
      ]
    },
    {
      "cell_type": "code",
      "execution_count": 85,
      "metadata": {
        "colab": {
          "base_uri": "https://localhost:8080/",
          "height": 35
        },
        "id": "PENkEYhhirrH",
        "outputId": "8cc7647a-ecf8-4689-d9c8-f08e151c9f1f"
      },
      "outputs": [
        {
          "output_type": "execute_result",
          "data": {
            "text/plain": [
              "'0xa'"
            ],
            "application/vnd.google.colaboratory.intrinsic+json": {
              "type": "string"
            }
          },
          "metadata": {},
          "execution_count": 85
        }
      ],
      "source": [
        "hex(10)"
      ]
    },
    {
      "cell_type": "code",
      "execution_count": 86,
      "metadata": {
        "colab": {
          "base_uri": "https://localhost:8080/",
          "height": 35
        },
        "id": "Jluyus5Zi6-W",
        "outputId": "b20f649f-d6c6-4199-9327-6f1e2ffbce2a"
      },
      "outputs": [
        {
          "output_type": "execute_result",
          "data": {
            "text/plain": [
              "'0x14'"
            ],
            "application/vnd.google.colaboratory.intrinsic+json": {
              "type": "string"
            }
          },
          "metadata": {},
          "execution_count": 86
        }
      ],
      "source": [
        "hex(20)"
      ]
    },
    {
      "cell_type": "code",
      "execution_count": 87,
      "metadata": {
        "colab": {
          "base_uri": "https://localhost:8080/"
        },
        "id": "wgrNEujii9T2",
        "outputId": "4cccd3d2-89da-4141-9740-ee44abd40251"
      },
      "outputs": [
        {
          "output_type": "execute_result",
          "data": {
            "text/plain": [
              "10"
            ]
          },
          "metadata": {},
          "execution_count": 87
        }
      ],
      "source": [
        "0xa"
      ]
    },
    {
      "cell_type": "code",
      "execution_count": 88,
      "metadata": {
        "colab": {
          "base_uri": "https://localhost:8080/"
        },
        "id": "krUpa4hBjHxO",
        "outputId": "64fc6586-4b0e-4532-829a-754635704a15"
      },
      "outputs": [
        {
          "output_type": "stream",
          "name": "stdout",
          "text": [
            "\n",
            "Please wait a moment while I gather a list of all available modules...\n",
            "\n"
          ]
        },
        {
          "output_type": "stream",
          "name": "stderr",
          "text": [
            "/usr/local/lib/python3.7/dist-packages/caffe2/proto/__init__.py:17: UserWarning: Caffe2 support is not enabled in this PyTorch build. Please enable Caffe2 by building PyTorch from source with `BUILD_CAFFE2=1` flag.\n",
            "/usr/local/lib/python3.7/dist-packages/caffe2/proto/__init__.py:17: UserWarning: Caffe2 support is not enabled in this PyTorch build. Please enable Caffe2 by building PyTorch from source with `BUILD_CAFFE2=1` flag.\n",
            "/usr/local/lib/python3.7/dist-packages/caffe2/python/__init__.py:9: UserWarning: Caffe2 support is not enabled in this PyTorch build. Please enable Caffe2 by building PyTorch from source with `BUILD_CAFFE2=1` flag.\n"
          ]
        },
        {
          "output_type": "stream",
          "name": "stdout",
          "text": [
            "Cython              collections         jupyterlab_plotly   regex\n",
            "IPython             colorcet            jupyterlab_widgets  reprlib\n",
            "OpenGL              colorlover          kaggle              requests\n",
            "PIL                 colorsys            kanren              requests_oauthlib\n",
            "ScreenResolution    community           kapre               resampy\n",
            "__future__          compileall          keras               resource\n",
            "_abc                concurrent          keras_preprocessing rlcompleter\n",
            "_ast                confection          keyword             rmagic\n",
            "_asyncio            configparser        kiwisolver          rpy2\n",
            "_bisect             cons                korean_lunar_calendar rsa\n",
            "_blake2             contextlib          langcodes           runpy\n",
            "_bootlocale         contextlib2         lib2to3             sched\n",
            "_bz2                contextvars         libfuturize         scipy\n",
            "_cffi_backend       convertdate         libpasteurize       scs\n",
            "_codecs             copy                librosa             seaborn\n",
            "_codecs_cn          copyreg             lightgbm            secrets\n",
            "_codecs_hk          crashtest           linecache           select\n",
            "_codecs_iso2022     crcmod              llvmlite            selectors\n",
            "_codecs_jp          crypt               lmdb                send2trash\n",
            "_codecs_kr          csimdjson           locale              setuptools\n",
            "_codecs_tw          csv                 locket              setuptools_git\n",
            "_collections        ctypes              logging             shapely\n",
            "_collections_abc    cufflinks           lsb_release         shelve\n",
            "_compat_pickle      curses              lunarcalendar       shlex\n",
            "_compression        cv2                 lxml                shutil\n",
            "_contextvars        cvxopt              lzma                signal\n",
            "_crypt              cvxpy               macpath             simdjson\n",
            "_csv                cycler              mailbox             site\n",
            "_ctypes             cymem               mailcap             sitecustomize\n",
            "_ctypes_test        cython              markdown            six\n",
            "_curses             cythonmagic         markupsafe          skimage\n",
            "_curses_panel       daft                marshal             sklearn\n",
            "_cvxcore            dask                marshmallow         sklearn_pandas\n",
            "_datetime           dataclasses         math                slugify\n",
            "_dbm                datascience         matplotlib          smart_open\n",
            "_decimal            datetime            matplotlib_venn     smtpd\n",
            "_distutils_hack     dateutil            mimetypes           smtplib\n",
            "_dlib_pybind11      db_dtypes           missingno           sndhdr\n",
            "_dummy_thread       dbm                 mistune             snowballstemmer\n",
            "_ecos               dbus                mizani              socket\n",
            "_elementtree        debugpy             mlxtend             socketserver\n",
            "_functools          decimal             mmap                socks\n",
            "_hashlib            decorator           modulefinder        sockshandler\n",
            "_heapq              defusedxml          more_itertools      softwareproperties\n",
            "_imp                descartes           moviepy             sortedcontainers\n",
            "_io                 difflib             mpmath              soundfile\n",
            "_json               dill                msgpack             spacy\n",
            "_locale             dis                 multidict           spacy_legacy\n",
            "_lsprof             distributed         multipledispatch    spacy_loggers\n",
            "_lzma               distutils           multiprocessing     sphinx\n",
            "_markupbase         dlib                multitasking        spwd\n",
            "_md5                dns                 murmurhash          sql\n",
            "_multibytecodec     docs                music21             sqlalchemy\n",
            "_multiprocessing    doctest             natsort             sqlite3\n",
            "_opcode             docutils            nbconvert           sqlparse\n",
            "_operator           dopamine            nbformat            sre_compile\n",
            "_osx_support        dot_parser          netCDF4             sre_constants\n",
            "_pickle             dummy_threading     netrc               sre_parse\n",
            "_plotly_future_     easydict            networkx            srsly\n",
            "_plotly_utils       ecos                nibabel             ssl\n",
            "_posixsubprocess    editdistance        nis                 stan\n",
            "_py_abc             ee                  nisext              stat\n",
            "_pydecimal          email               nltk                statistics\n",
            "_pyio               en_core_web_sm      nntplib             statsmodels\n",
            "_pyrsistent_version encodings           notebook            storemagic\n",
            "_pytest             entrypoints         ntpath              string\n",
            "_queue              enum                nturl2path          stringprep\n",
            "_random             ephem               numba               struct\n",
            "_remote_module_non_scriptable erfa                numbergen           subprocess\n",
            "_rinterface_cffi_abi errno               numbers             sunau\n",
            "_rinterface_cffi_api et_xmlfile          numexpr             symbol\n",
            "_scs_direct         etils               numpy               sympy\n",
            "_scs_indirect       etuples             oauth2client        sympyprinting\n",
            "_sha1               fa2                 oauthlib            symtable\n",
            "_sha256             fastai              ogr                 sys\n",
            "_sha3               fastcore            okgrade             sysconfig\n",
            "_sha512             fastdownload        opcode              syslog\n",
            "_signal             fastdtw             openpyxl            tables\n",
            "_sitebuiltins       fastjsonschema      operator            tabnanny\n",
            "_socket             fastprogress        opt_einsum          tabulate\n",
            "_soundfile          fastrlock           optparse            tarfile\n",
            "_sqlite3            faulthandler        os                  tblib\n",
            "_sre                fcntl               osgeo               telnetlib\n",
            "_ssl                feather             osqp                tempfile\n",
            "_stat               filecmp             osqppurepy          tenacity\n",
            "_string             fileinput           osr                 tensorboard\n",
            "_strptime           filelock            ossaudiodev         tensorboard_data_server\n",
            "_struct             firebase_admin      packaging           tensorboard_plugin_wit\n",
            "_symtable           fix_yahoo_finance   palettable          tensorflow\n",
            "_sysconfigdata_m_linux_x86_64-linux-gnu flask               pandas              tensorflow_datasets\n",
            "_sysconfigdata_m_x86_64-linux-gnu flatbuffers         pandas_datareader   tensorflow_estimator\n",
            "_testbuffer         fnmatch             pandas_gbq          tensorflow_gcs_config\n",
            "_testcapi           folium              pandas_profiling    tensorflow_hub\n",
            "_testimportmultiple formatter           pandocfilters       tensorflow_io_gcs_filesystem\n",
            "_testmultiphase     fractions           panel               tensorflow_metadata\n",
            "_thread             frozenlist          param               tensorflow_probability\n",
            "_threading_local    fsspec              parser              termcolor\n",
            "_tkinter            ftplib              parso               terminado\n",
            "_tracemalloc        functools           partd               termios\n",
            "_warnings           future              past                test\n",
            "_weakref            gast                pasta               testpath\n",
            "_weakrefset         gc                  pastel              tests\n",
            "_xxtestfuzz         gdal                pathlib             text_unidecode\n",
            "_yaml               gdalconst           pathy               textblob\n",
            "abc                 gdalnumeric         patsy               textwrap\n",
            "absl                gdown               pdb                 thinc\n",
            "aeppl               genericpath         pep517              this\n",
            "aesara              gensim              pexpect             threading\n",
            "aifc                geographiclib       pickle              threadpoolctl\n",
            "aiohttp             geopy               pickleshare         tifffile\n",
            "aiosignal           getopt              pickletools         time\n",
            "alabaster           getpass             pip                 timeit\n",
            "albumentations      gettext             pipes               tkinter\n",
            "altair              gi                  piptools            tlz\n",
            "antigravity         gin                 pkg_resources       token\n",
            "apiclient           glob                pkgutil             tokenize\n",
            "appdirs             glob2               platform            toml\n",
            "apt                 gnm                 plistlib            tomli\n",
            "apt_inst            google_auth_httplib2 plotly              toolz\n",
            "apt_pkg             google_auth_oauthlib plotlywidget        torch\n",
            "aptsources          google_crc32c       plotnine            torchaudio\n",
            "argparse            google_drive_downloader pluggy              torchgen\n",
            "array               googleapiclient     pooch               torchsummary\n",
            "arviz               googlesearch        poplib              torchtext\n",
            "ast                 graphviz            portpicker          torchvision\n",
            "astor               greenlet            posix               tornado\n",
            "astropy             gridfs              posixpath           tqdm\n",
            "astunparse          grp                 pprint              trace\n",
            "async_timeout       grpc                prefetch_generator  traceback\n",
            "asynchat            grpc_status         preshed             tracemalloc\n",
            "asyncio             gspread             prettytable         traitlets\n",
            "asyncore            gspread_dataframe   profile             tree\n",
            "asynctest           gym                 progressbar         tty\n",
            "atari_py            gym_notices         prometheus_client   turtle\n",
            "atexit              gzip                promise             tweepy\n",
            "atomicwrites        h5py                prompt_toolkit      typeguard\n",
            "attr                hashlib             prophet             typer\n",
            "attrs               heapdict            proto               types\n",
            "audioop             heapq               pstats              typing\n",
            "audioread           hijri_converter     psutil              typing_extensions\n",
            "autograd            hmac                psycopg2            tzlocal\n",
            "autoreload          holidays            pty                 unicodedata\n",
            "babel               holoviews           ptyprocess          unification\n",
            "backcall            html                pwd                 unittest\n",
            "base64              html5lib            py                  uritemplate\n",
            "bdb                 http                py_compile          urllib\n",
            "bin                 httpimport          pyarrow             urllib3\n",
            "binascii            httplib2            pyasn1              uu\n",
            "binhex              httpstan            pyasn1_modules      uuid\n",
            "bisect              humanize            pyclbr              vega_datasets\n",
            "bleach              hyperopt            pycocotools         venv\n",
            "blis                idna                pycparser           vis\n",
            "bokeh               imageio             pyct                warnings\n",
            "boost               imagesize           pydantic            wasabi\n",
            "branca              imaplib             pydata_google_auth  wave\n",
            "bs4                 imblearn            pydoc               wcwidth\n",
            "bson                imgaug              pydoc_data          weakref\n",
            "builtins            imghdr              pydot               webargs\n",
            "bz2                 imp                 pydot_ng            webbrowser\n",
            "cProfile            importlib           pydotplus           webencodings\n",
            "cachecontrol        importlib_metadata  pydrive             werkzeug\n",
            "cached_property     importlib_resources pyemd               wheel\n",
            "cachetools          imutils             pyexpat             widgetsnbextension\n",
            "caffe2              inflect             pygments            wordcloud\n",
            "calendar            inspect             pygtkcompat         wrapt\n",
            "catalogue           intervaltree        pylab               wsgiref\n",
            "certifi             io                  pylev               xarray\n",
            "cffi                ipaddress           pymc                xarray_einstats\n",
            "cftime              ipykernel           pymeeus             xdrlib\n",
            "cgi                 ipykernel_launcher  pymongo             xgboost\n",
            "cgitb               ipython_genutils    pymystem3           xkit\n",
            "chardet             ipywidgets          pyparsing           xlrd\n",
            "charset_normalizer  isympy              pyrsistent          xlwt\n",
            "chunk               itertools           pysndfile           xml\n",
            "clang               itsdangerous        pytest              xmlrpc\n",
            "click               jax                 python_utils        xxlimited\n",
            "client              jaxlib              pytz                xxsubtype\n",
            "clikit              jieba               pyviz_comms         yaml\n",
            "cloudpickle         jinja2              pywt                yarl\n",
            "cmake               joblib              pyximport           yellowbrick\n",
            "cmath               jpeg4py             qdldl               zict\n",
            "cmd                 json                qudida              zipapp\n",
            "cmdstanpy           jsonschema          queue               zipfile\n",
            "code                jupyter             quopri              zipimport\n",
            "codecs              jupyter_client      random              zipp\n",
            "codeop              jupyter_console     re                  zlib\n",
            "colab               jupyter_core        readline            zmq\n",
            "\n",
            "Enter any module name to get more help.  Or, type \"modules spam\" to search\n",
            "for modules whose name or summary contain the string \"spam\".\n",
            "\n"
          ]
        }
      ],
      "source": [
        "help('modules')"
      ]
    },
    {
      "cell_type": "code",
      "execution_count": 89,
      "metadata": {
        "id": "2peosq8BjU10"
      },
      "outputs": [],
      "source": [
        "import math"
      ]
    },
    {
      "cell_type": "code",
      "execution_count": 90,
      "metadata": {
        "colab": {
          "base_uri": "https://localhost:8080/"
        },
        "id": "tEpNe9KTkfXQ",
        "outputId": "d98ee2c0-00c8-4a82-efb0-588b8e575d56"
      },
      "outputs": [
        {
          "output_type": "execute_result",
          "data": {
            "text/plain": [
              "['In',\n",
              " 'Out',\n",
              " '_',\n",
              " '_10',\n",
              " '_12',\n",
              " '_13',\n",
              " '_14',\n",
              " '_15',\n",
              " '_16',\n",
              " '_17',\n",
              " '_18',\n",
              " '_19',\n",
              " '_20',\n",
              " '_21',\n",
              " '_22',\n",
              " '_24',\n",
              " '_25',\n",
              " '_27',\n",
              " '_28',\n",
              " '_29',\n",
              " '_32',\n",
              " '_33',\n",
              " '_35',\n",
              " '_37',\n",
              " '_38',\n",
              " '_4',\n",
              " '_41',\n",
              " '_44',\n",
              " '_45',\n",
              " '_46',\n",
              " '_47',\n",
              " '_49',\n",
              " '_50',\n",
              " '_53',\n",
              " '_55',\n",
              " '_56',\n",
              " '_57',\n",
              " '_59',\n",
              " '_6',\n",
              " '_60',\n",
              " '_62',\n",
              " '_64',\n",
              " '_66',\n",
              " '_68',\n",
              " '_70',\n",
              " '_71',\n",
              " '_72',\n",
              " '_73',\n",
              " '_74',\n",
              " '_75',\n",
              " '_76',\n",
              " '_77',\n",
              " '_78',\n",
              " '_79',\n",
              " '_8',\n",
              " '_80',\n",
              " '_82',\n",
              " '_83',\n",
              " '_85',\n",
              " '_86',\n",
              " '_87',\n",
              " '__',\n",
              " '___',\n",
              " '__builtin__',\n",
              " '__builtins__',\n",
              " '__doc__',\n",
              " '__loader__',\n",
              " '__name__',\n",
              " '__package__',\n",
              " '__spec__',\n",
              " '_dh',\n",
              " '_i',\n",
              " '_i1',\n",
              " '_i10',\n",
              " '_i11',\n",
              " '_i12',\n",
              " '_i13',\n",
              " '_i14',\n",
              " '_i15',\n",
              " '_i16',\n",
              " '_i17',\n",
              " '_i18',\n",
              " '_i19',\n",
              " '_i2',\n",
              " '_i20',\n",
              " '_i21',\n",
              " '_i22',\n",
              " '_i23',\n",
              " '_i24',\n",
              " '_i25',\n",
              " '_i26',\n",
              " '_i27',\n",
              " '_i28',\n",
              " '_i29',\n",
              " '_i3',\n",
              " '_i30',\n",
              " '_i31',\n",
              " '_i32',\n",
              " '_i33',\n",
              " '_i34',\n",
              " '_i35',\n",
              " '_i36',\n",
              " '_i37',\n",
              " '_i38',\n",
              " '_i39',\n",
              " '_i4',\n",
              " '_i40',\n",
              " '_i41',\n",
              " '_i42',\n",
              " '_i43',\n",
              " '_i44',\n",
              " '_i45',\n",
              " '_i46',\n",
              " '_i47',\n",
              " '_i48',\n",
              " '_i49',\n",
              " '_i5',\n",
              " '_i50',\n",
              " '_i51',\n",
              " '_i52',\n",
              " '_i53',\n",
              " '_i54',\n",
              " '_i55',\n",
              " '_i56',\n",
              " '_i57',\n",
              " '_i58',\n",
              " '_i59',\n",
              " '_i6',\n",
              " '_i60',\n",
              " '_i61',\n",
              " '_i62',\n",
              " '_i63',\n",
              " '_i64',\n",
              " '_i65',\n",
              " '_i66',\n",
              " '_i67',\n",
              " '_i68',\n",
              " '_i69',\n",
              " '_i7',\n",
              " '_i70',\n",
              " '_i71',\n",
              " '_i72',\n",
              " '_i73',\n",
              " '_i74',\n",
              " '_i75',\n",
              " '_i76',\n",
              " '_i77',\n",
              " '_i78',\n",
              " '_i79',\n",
              " '_i8',\n",
              " '_i80',\n",
              " '_i81',\n",
              " '_i82',\n",
              " '_i83',\n",
              " '_i84',\n",
              " '_i85',\n",
              " '_i86',\n",
              " '_i87',\n",
              " '_i88',\n",
              " '_i89',\n",
              " '_i9',\n",
              " '_i90',\n",
              " '_ih',\n",
              " '_ii',\n",
              " '_iii',\n",
              " '_oh',\n",
              " 'a',\n",
              " 'b',\n",
              " 'datetime',\n",
              " 'dt',\n",
              " 'e',\n",
              " 'exit',\n",
              " 'get_ipython',\n",
              " 'gvr',\n",
              " 'launch_date',\n",
              " 'launch_datetime',\n",
              " 'launch_time',\n",
              " 'math',\n",
              " 'message',\n",
              " 'message2',\n",
              " 'mill',\n",
              " 'movie_quote',\n",
              " 'quit',\n",
              " 'x',\n",
              " 'z']"
            ]
          },
          "metadata": {},
          "execution_count": 90
        }
      ],
      "source": [
        "dir()"
      ]
    },
    {
      "cell_type": "code",
      "execution_count": 91,
      "metadata": {
        "colab": {
          "base_uri": "https://localhost:8080/"
        },
        "id": "tHEBCT4RkgNK",
        "outputId": "490b09db-f630-45c2-ec76-aa24bf585faf"
      },
      "outputs": [
        {
          "output_type": "execute_result",
          "data": {
            "text/plain": [
              "['__doc__',\n",
              " '__loader__',\n",
              " '__name__',\n",
              " '__package__',\n",
              " '__spec__',\n",
              " 'acos',\n",
              " 'acosh',\n",
              " 'asin',\n",
              " 'asinh',\n",
              " 'atan',\n",
              " 'atan2',\n",
              " 'atanh',\n",
              " 'ceil',\n",
              " 'copysign',\n",
              " 'cos',\n",
              " 'cosh',\n",
              " 'degrees',\n",
              " 'e',\n",
              " 'erf',\n",
              " 'erfc',\n",
              " 'exp',\n",
              " 'expm1',\n",
              " 'fabs',\n",
              " 'factorial',\n",
              " 'floor',\n",
              " 'fmod',\n",
              " 'frexp',\n",
              " 'fsum',\n",
              " 'gamma',\n",
              " 'gcd',\n",
              " 'hypot',\n",
              " 'inf',\n",
              " 'isclose',\n",
              " 'isfinite',\n",
              " 'isinf',\n",
              " 'isnan',\n",
              " 'ldexp',\n",
              " 'lgamma',\n",
              " 'log',\n",
              " 'log10',\n",
              " 'log1p',\n",
              " 'log2',\n",
              " 'modf',\n",
              " 'nan',\n",
              " 'pi',\n",
              " 'pow',\n",
              " 'radians',\n",
              " 'remainder',\n",
              " 'sin',\n",
              " 'sinh',\n",
              " 'sqrt',\n",
              " 'tan',\n",
              " 'tanh',\n",
              " 'tau',\n",
              " 'trunc']"
            ]
          },
          "metadata": {},
          "execution_count": 91
        }
      ],
      "source": [
        "dir(math)"
      ]
    },
    {
      "cell_type": "code",
      "execution_count": 92,
      "metadata": {
        "colab": {
          "base_uri": "https://localhost:8080/"
        },
        "id": "k7bl6LK_kp7F",
        "outputId": "e48513fa-a888-40cf-ef6a-03e881b0a6c2"
      },
      "outputs": [
        {
          "output_type": "stream",
          "name": "stdout",
          "text": [
            "Help on built-in function radians in module math:\n",
            "\n",
            "radians(x, /)\n",
            "    Convert angle x from degrees to radians.\n",
            "\n"
          ]
        }
      ],
      "source": [
        "help(math.radians)"
      ]
    },
    {
      "cell_type": "code",
      "execution_count": 93,
      "metadata": {
        "id": "WeOYoHTxk4P0",
        "colab": {
          "base_uri": "https://localhost:8080/"
        },
        "outputId": "93010f7e-e604-43e3-84b1-0f37d4580f26"
      },
      "outputs": [
        {
          "output_type": "execute_result",
          "data": {
            "text/plain": [
              "3.141592653589793"
            ]
          },
          "metadata": {},
          "execution_count": 93
        }
      ],
      "source": [
        "math.radians(180)"
      ]
    },
    {
      "cell_type": "code",
      "execution_count": 94,
      "metadata": {
        "id": "_rDnB8pdmJBT"
      },
      "outputs": [],
      "source": [
        "a = 5\n",
        "b = 10\n",
        "a,b = b,a"
      ]
    },
    {
      "cell_type": "code",
      "execution_count": 95,
      "metadata": {
        "id": "fU8X9Yo60Try",
        "colab": {
          "base_uri": "https://localhost:8080/"
        },
        "outputId": "439d9ea1-e4d7-498c-9ae1-798089b49dcd"
      },
      "outputs": [
        {
          "output_type": "execute_result",
          "data": {
            "text/plain": [
              "10"
            ]
          },
          "metadata": {},
          "execution_count": 95
        }
      ],
      "source": [
        "a"
      ]
    },
    {
      "cell_type": "code",
      "execution_count": 96,
      "metadata": {
        "id": "hxJ4qtHN0VhI",
        "colab": {
          "base_uri": "https://localhost:8080/"
        },
        "outputId": "af5471d1-75dd-4005-f39d-6aa1efebe830"
      },
      "outputs": [
        {
          "output_type": "execute_result",
          "data": {
            "text/plain": [
              "5"
            ]
          },
          "metadata": {},
          "execution_count": 96
        }
      ],
      "source": [
        "b"
      ]
    },
    {
      "cell_type": "code",
      "execution_count": 97,
      "metadata": {
        "id": "qj7kmkAy0Xwb",
        "colab": {
          "base_uri": "https://localhost:8080/"
        },
        "outputId": "0a39b11c-a7d8-42be-cc6b-80b2c6beb2d9"
      },
      "outputs": [
        {
          "output_type": "stream",
          "name": "stdout",
          "text": [
            "10 5\n"
          ]
        }
      ],
      "source": [
        "print(a,b)"
      ]
    },
    {
      "cell_type": "code",
      "execution_count": 98,
      "metadata": {
        "id": "EyLaLiLJ0fit"
      },
      "outputs": [],
      "source": [
        "import datetime"
      ]
    },
    {
      "cell_type": "code",
      "execution_count": 99,
      "metadata": {
        "id": "TX3JScIDs7lB",
        "colab": {
          "base_uri": "https://localhost:8080/"
        },
        "outputId": "6fafd001-f649-4555-e3f0-00330a775dd6"
      },
      "outputs": [
        {
          "output_type": "execute_result",
          "data": {
            "text/plain": [
              "['MAXYEAR',\n",
              " 'MINYEAR',\n",
              " '__builtins__',\n",
              " '__cached__',\n",
              " '__doc__',\n",
              " '__file__',\n",
              " '__loader__',\n",
              " '__name__',\n",
              " '__package__',\n",
              " '__spec__',\n",
              " 'date',\n",
              " 'datetime',\n",
              " 'datetime_CAPI',\n",
              " 'sys',\n",
              " 'time',\n",
              " 'timedelta',\n",
              " 'timezone',\n",
              " 'tzinfo']"
            ]
          },
          "metadata": {},
          "execution_count": 99
        }
      ],
      "source": [
        "dir(datetime)"
      ]
    },
    {
      "cell_type": "code",
      "execution_count": 100,
      "metadata": {
        "id": "sos-p9L7tB_r",
        "colab": {
          "base_uri": "https://localhost:8080/"
        },
        "outputId": "0aa4aa76-b87a-48cc-eb60-bba3ed47822c"
      },
      "outputs": [
        {
          "output_type": "stream",
          "name": "stdout",
          "text": [
            "Help on class date in module datetime:\n",
            "\n",
            "class date(builtins.object)\n",
            " |  date(year, month, day) --> date object\n",
            " |  \n",
            " |  Methods defined here:\n",
            " |  \n",
            " |  __add__(self, value, /)\n",
            " |      Return self+value.\n",
            " |  \n",
            " |  __eq__(self, value, /)\n",
            " |      Return self==value.\n",
            " |  \n",
            " |  __format__(...)\n",
            " |      Formats self with strftime.\n",
            " |  \n",
            " |  __ge__(self, value, /)\n",
            " |      Return self>=value.\n",
            " |  \n",
            " |  __getattribute__(self, name, /)\n",
            " |      Return getattr(self, name).\n",
            " |  \n",
            " |  __gt__(self, value, /)\n",
            " |      Return self>value.\n",
            " |  \n",
            " |  __hash__(self, /)\n",
            " |      Return hash(self).\n",
            " |  \n",
            " |  __le__(self, value, /)\n",
            " |      Return self<=value.\n",
            " |  \n",
            " |  __lt__(self, value, /)\n",
            " |      Return self<value.\n",
            " |  \n",
            " |  __ne__(self, value, /)\n",
            " |      Return self!=value.\n",
            " |  \n",
            " |  __radd__(self, value, /)\n",
            " |      Return value+self.\n",
            " |  \n",
            " |  __reduce__(...)\n",
            " |      __reduce__() -> (cls, state)\n",
            " |  \n",
            " |  __repr__(self, /)\n",
            " |      Return repr(self).\n",
            " |  \n",
            " |  __rsub__(self, value, /)\n",
            " |      Return value-self.\n",
            " |  \n",
            " |  __str__(self, /)\n",
            " |      Return str(self).\n",
            " |  \n",
            " |  __sub__(self, value, /)\n",
            " |      Return self-value.\n",
            " |  \n",
            " |  ctime(...)\n",
            " |      Return ctime() style string.\n",
            " |  \n",
            " |  isocalendar(...)\n",
            " |      Return a 3-tuple containing ISO year, week number, and weekday.\n",
            " |  \n",
            " |  isoformat(...)\n",
            " |      Return string in ISO 8601 format, YYYY-MM-DD.\n",
            " |  \n",
            " |  isoweekday(...)\n",
            " |      Return the day of the week represented by the date.\n",
            " |      Monday == 1 ... Sunday == 7\n",
            " |  \n",
            " |  replace(...)\n",
            " |      Return date with new specified fields.\n",
            " |  \n",
            " |  strftime(...)\n",
            " |      format -> strftime() style string.\n",
            " |  \n",
            " |  timetuple(...)\n",
            " |      Return time tuple, compatible with time.localtime().\n",
            " |  \n",
            " |  toordinal(...)\n",
            " |      Return proleptic Gregorian ordinal.  January 1 of year 1 is day 1.\n",
            " |  \n",
            " |  weekday(...)\n",
            " |      Return the day of the week represented by the date.\n",
            " |      Monday == 0 ... Sunday == 6\n",
            " |  \n",
            " |  ----------------------------------------------------------------------\n",
            " |  Class methods defined here:\n",
            " |  \n",
            " |  fromisoformat(...) from builtins.type\n",
            " |      str -> Construct a date from the output of date.isoformat()\n",
            " |  \n",
            " |  fromordinal(...) from builtins.type\n",
            " |      int -> date corresponding to a proleptic Gregorian ordinal.\n",
            " |  \n",
            " |  fromtimestamp(...) from builtins.type\n",
            " |      timestamp -> local date from a POSIX timestamp (like time.time()).\n",
            " |  \n",
            " |  today(...) from builtins.type\n",
            " |      Current date or datetime:  same as self.__class__.fromtimestamp(time.time()).\n",
            " |  \n",
            " |  ----------------------------------------------------------------------\n",
            " |  Static methods defined here:\n",
            " |  \n",
            " |  __new__(*args, **kwargs) from builtins.type\n",
            " |      Create and return a new object.  See help(type) for accurate signature.\n",
            " |  \n",
            " |  ----------------------------------------------------------------------\n",
            " |  Data descriptors defined here:\n",
            " |  \n",
            " |  day\n",
            " |  \n",
            " |  month\n",
            " |  \n",
            " |  year\n",
            " |  \n",
            " |  ----------------------------------------------------------------------\n",
            " |  Data and other attributes defined here:\n",
            " |  \n",
            " |  max = datetime.date(9999, 12, 31)\n",
            " |  \n",
            " |  min = datetime.date(1, 1, 1)\n",
            " |  \n",
            " |  resolution = datetime.timedelta(days=1)\n",
            "\n"
          ]
        }
      ],
      "source": [
        "help(datetime.date)"
      ]
    },
    {
      "cell_type": "code",
      "execution_count": 101,
      "metadata": {
        "id": "InthR3QBtUJ5"
      },
      "outputs": [],
      "source": [
        "gvr = datetime.date(1956, 1, 31)"
      ]
    },
    {
      "cell_type": "code",
      "execution_count": 102,
      "metadata": {
        "id": "HyE4EsjluB2f",
        "colab": {
          "base_uri": "https://localhost:8080/"
        },
        "outputId": "75da5735-989d-4df4-95e5-bd9fc289978b"
      },
      "outputs": [
        {
          "output_type": "execute_result",
          "data": {
            "text/plain": [
              "datetime.date(1956, 1, 31)"
            ]
          },
          "metadata": {},
          "execution_count": 102
        }
      ],
      "source": [
        "gvr"
      ]
    },
    {
      "cell_type": "code",
      "execution_count": 103,
      "metadata": {
        "id": "tUX11kpWuHE1",
        "colab": {
          "base_uri": "https://localhost:8080/"
        },
        "outputId": "4b236a5c-cbf9-44a4-c5c6-7191aef44bce"
      },
      "outputs": [
        {
          "output_type": "execute_result",
          "data": {
            "text/plain": [
              "1956"
            ]
          },
          "metadata": {},
          "execution_count": 103
        }
      ],
      "source": [
        "gvr.year"
      ]
    },
    {
      "cell_type": "code",
      "execution_count": 104,
      "metadata": {
        "id": "9oX5AZhcuLvt",
        "colab": {
          "base_uri": "https://localhost:8080/"
        },
        "outputId": "8a8718fd-a451-426b-f161-946030db6b88"
      },
      "outputs": [
        {
          "output_type": "execute_result",
          "data": {
            "text/plain": [
              "1"
            ]
          },
          "metadata": {},
          "execution_count": 104
        }
      ],
      "source": [
        "gvr.month"
      ]
    },
    {
      "cell_type": "code",
      "execution_count": 105,
      "metadata": {
        "id": "IQAlmDfXuOTF",
        "colab": {
          "base_uri": "https://localhost:8080/"
        },
        "outputId": "73f4dc25-790f-4757-c01d-219e4ce474bb"
      },
      "outputs": [
        {
          "output_type": "execute_result",
          "data": {
            "text/plain": [
              "31"
            ]
          },
          "metadata": {},
          "execution_count": 105
        }
      ],
      "source": [
        "gvr.day"
      ]
    },
    {
      "cell_type": "markdown",
      "metadata": {
        "id": "I1WL256LuQhY"
      },
      "source": [
        "# ***palindrome***\n",
        "/ˈpalɪndrəʊm/\n",
        "Learn to pronounce\n",
        "noun\n",
        "noun: palindrome; plural noun: palindromes\n",
        "\n",
        "## ***   a word, phrase, or sequence that reads the same backwards as forwards, e.g. madam or nurses run.***\n",
        "\n",
        "Origin"
      ]
    },
    {
      "cell_type": "code",
      "execution_count": 106,
      "metadata": {
        "id": "XA8WE3s20gpd"
      },
      "outputs": [],
      "source": [
        "mill = datetime.date(2000, 1, 1)"
      ]
    },
    {
      "cell_type": "code",
      "execution_count": 107,
      "metadata": {
        "id": "aMN-l-d-05-F",
        "colab": {
          "base_uri": "https://localhost:8080/"
        },
        "outputId": "44d35822-847e-4c0c-d5ae-2d9eebac3906"
      },
      "outputs": [
        {
          "output_type": "execute_result",
          "data": {
            "text/plain": [
              "datetime.timedelta(days=100)"
            ]
          },
          "metadata": {},
          "execution_count": 107
        }
      ],
      "source": [
        "dt = datetime.timedelta(100)\n",
        "dt"
      ]
    },
    {
      "cell_type": "code",
      "execution_count": 108,
      "metadata": {
        "id": "rkI7icee1Dio",
        "colab": {
          "base_uri": "https://localhost:8080/"
        },
        "outputId": "daf93c8c-3153-4136-e797-adc82273d77c"
      },
      "outputs": [
        {
          "output_type": "execute_result",
          "data": {
            "text/plain": [
              "datetime.date(2000, 4, 10)"
            ]
          },
          "metadata": {},
          "execution_count": 108
        }
      ],
      "source": [
        "mill + dt"
      ]
    },
    {
      "cell_type": "code",
      "execution_count": 109,
      "metadata": {
        "id": "UilNgawy1LHk",
        "colab": {
          "base_uri": "https://localhost:8080/"
        },
        "outputId": "af67c2c3-211e-479a-b62a-df8cf7da99a9"
      },
      "outputs": [
        {
          "output_type": "stream",
          "name": "stdout",
          "text": [
            "Tuesday, January 31, 1956\n"
          ]
        }
      ],
      "source": [
        "print(gvr.strftime(\"%A, %B %d, %Y\"))"
      ]
    },
    {
      "cell_type": "code",
      "execution_count": 110,
      "metadata": {
        "id": "XFVV9PBOd0V_",
        "colab": {
          "base_uri": "https://localhost:8080/",
          "height": 35
        },
        "outputId": "8296f85c-2054-41cf-d757-17721e865296"
      },
      "outputs": [
        {
          "output_type": "execute_result",
          "data": {
            "text/plain": [
              "'Tuesday, January 31, 1956'"
            ],
            "application/vnd.google.colaboratory.intrinsic+json": {
              "type": "string"
            }
          },
          "metadata": {},
          "execution_count": 110
        }
      ],
      "source": [
        "gvr.strftime('%A, %B %d, %Y')"
      ]
    },
    {
      "cell_type": "code",
      "source": [
        "message = 'GVR was born on {:%A, %B %d, %Y}'\n",
        "message.format(gvr)"
      ],
      "metadata": {
        "colab": {
          "base_uri": "https://localhost:8080/",
          "height": 35
        },
        "id": "1gAut6rrezGn",
        "outputId": "b0ac9272-4483-4dd9-b0c1-61ca2d49b8f8"
      },
      "execution_count": 111,
      "outputs": [
        {
          "output_type": "execute_result",
          "data": {
            "text/plain": [
              "'GVR was born on Tuesday, January 31, 1956'"
            ],
            "application/vnd.google.colaboratory.intrinsic+json": {
              "type": "string"
            }
          },
          "metadata": {},
          "execution_count": 111
        }
      ]
    },
    {
      "cell_type": "code",
      "source": [
        "dir(datetime)"
      ],
      "metadata": {
        "colab": {
          "base_uri": "https://localhost:8080/"
        },
        "id": "Pmu3NPXffjR4",
        "outputId": "b8b541e1-161c-411c-adc7-83c11fa5967e"
      },
      "execution_count": 112,
      "outputs": [
        {
          "output_type": "execute_result",
          "data": {
            "text/plain": [
              "['MAXYEAR',\n",
              " 'MINYEAR',\n",
              " '__builtins__',\n",
              " '__cached__',\n",
              " '__doc__',\n",
              " '__file__',\n",
              " '__loader__',\n",
              " '__name__',\n",
              " '__package__',\n",
              " '__spec__',\n",
              " 'date',\n",
              " 'datetime',\n",
              " 'datetime_CAPI',\n",
              " 'sys',\n",
              " 'time',\n",
              " 'timedelta',\n",
              " 'timezone',\n",
              " 'tzinfo']"
            ]
          },
          "metadata": {},
          "execution_count": 112
        }
      ]
    },
    {
      "cell_type": "code",
      "source": [
        "launch_date = datetime.date(2017, 3, 30)\n",
        "launch_time = datetime.time(22, 27, 0)\n",
        "launch_datetime = datetime.datetime(2017, 3, 30, 22, 27, 0)"
      ],
      "metadata": {
        "id": "Fsjs_THXgM1f"
      },
      "execution_count": 113,
      "outputs": []
    },
    {
      "cell_type": "code",
      "source": [
        "print(launch_date)"
      ],
      "metadata": {
        "colab": {
          "base_uri": "https://localhost:8080/"
        },
        "id": "bpjQF06jg-Gk",
        "outputId": "ee728d05-b001-4f72-c5d6-3e1e2f1b8ab7"
      },
      "execution_count": 116,
      "outputs": [
        {
          "output_type": "stream",
          "name": "stdout",
          "text": [
            "2017-03-30\n"
          ]
        }
      ]
    },
    {
      "cell_type": "code",
      "source": [
        "print(launch_time)"
      ],
      "metadata": {
        "colab": {
          "base_uri": "https://localhost:8080/"
        },
        "id": "XWXGA7ZyhHRm",
        "outputId": "1765e6c2-8444-4907-ff40-d253fcdb79e4"
      },
      "execution_count": 117,
      "outputs": [
        {
          "output_type": "stream",
          "name": "stdout",
          "text": [
            "22:27:00\n"
          ]
        }
      ]
    },
    {
      "cell_type": "code",
      "source": [
        "print(launch_datetime)"
      ],
      "metadata": {
        "colab": {
          "base_uri": "https://localhost:8080/"
        },
        "id": "f7o6BcBqhJEU",
        "outputId": "a26c3768-0bac-4d7c-f089-250529f5acf9"
      },
      "execution_count": 119,
      "outputs": [
        {
          "output_type": "stream",
          "name": "stdout",
          "text": [
            "2017-03-30 22:27:00\n"
          ]
        }
      ]
    },
    {
      "cell_type": "code",
      "source": [
        "print(launch_time.hour)"
      ],
      "metadata": {
        "colab": {
          "base_uri": "https://localhost:8080/"
        },
        "id": "_hu-2AezjLF1",
        "outputId": "f8c673b4-d1ca-4570-ce96-5a173243d03a"
      },
      "execution_count": 120,
      "outputs": [
        {
          "output_type": "stream",
          "name": "stdout",
          "text": [
            "22\n"
          ]
        }
      ]
    },
    {
      "cell_type": "code",
      "source": [
        "print(datetime.datetime.today())"
      ],
      "metadata": {
        "colab": {
          "base_uri": "https://localhost:8080/"
        },
        "id": "GVP3HPP4jZKZ",
        "outputId": "15abd072-f493-445e-9ee0-891730d978cf"
      },
      "execution_count": 121,
      "outputs": [
        {
          "output_type": "stream",
          "name": "stdout",
          "text": [
            "2022-11-16 13:09:01.804156\n"
          ]
        }
      ]
    },
    {
      "cell_type": "code",
      "source": [
        "moon_landing = \"7/20/1969\""
      ],
      "metadata": {
        "id": "-BJ01f4jjoI5"
      },
      "execution_count": 122,
      "outputs": []
    },
    {
      "cell_type": "code",
      "source": [
        "moon_landing_datetime = datetime.datetime.strptime(moon_landing, \"%m/%d/%Y\")"
      ],
      "metadata": {
        "id": "rT_H6awsnWP8"
      },
      "execution_count": 124,
      "outputs": []
    },
    {
      "cell_type": "code",
      "source": [
        "moon_landing_datetime"
      ],
      "metadata": {
        "colab": {
          "base_uri": "https://localhost:8080/"
        },
        "id": "nxgXvpRRpnck",
        "outputId": "356c27e7-9767-4636-e908-3ce71f1d90fe"
      },
      "execution_count": 125,
      "outputs": [
        {
          "output_type": "execute_result",
          "data": {
            "text/plain": [
              "datetime.datetime(1969, 7, 20, 0, 0)"
            ]
          },
          "metadata": {},
          "execution_count": 125
        }
      ]
    },
    {
      "cell_type": "code",
      "source": [],
      "metadata": {
        "id": "q1odu5Ohpz4w"
      },
      "execution_count": null,
      "outputs": []
    }
  ],
  "metadata": {
    "colab": {
      "provenance": [],
      "authorship_tag": "ABX9TyMiprHQdLDHR3XPU9EZigtv",
      "include_colab_link": true
    },
    "kernelspec": {
      "display_name": "Python 3",
      "name": "python3"
    },
    "language_info": {
      "name": "python"
    }
  },
  "nbformat": 4,
  "nbformat_minor": 0
}